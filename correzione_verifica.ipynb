{
  "nbformat": 4,
  "nbformat_minor": 0,
  "metadata": {
    "colab": {
      "provenance": [],
      "authorship_tag": "ABX9TyN2WF3oLYZq3kcs3z24qWPP",
      "include_colab_link": true
    },
    "kernelspec": {
      "name": "python3",
      "display_name": "Python 3"
    },
    "language_info": {
      "name": "python"
    }
  },
  "cells": [
    {
      "cell_type": "markdown",
      "metadata": {
        "id": "view-in-github",
        "colab_type": "text"
      },
      "source": [
        "<a href=\"https://colab.research.google.com/github/SimoneFinessi/Correzioni-verifche/blob/main/correzione_verifica.ipynb\" target=\"_parent\"><img src=\"https://colab.research.google.com/assets/colab-badge.svg\" alt=\"Open In Colab\"/></a>"
      ]
    },
    {
      "cell_type": "markdown",
      "source": [
        "ricare i primi 50 multipli di 5"
      ],
      "metadata": {
        "id": "hF9qcXKQwJn0"
      }
    },
    {
      "cell_type": "code",
      "execution_count": null,
      "metadata": {
        "colab": {
          "base_uri": "https://localhost:8080/"
        },
        "id": "l7Z92X-Dv2QS",
        "outputId": "8e11b1a9-49e8-4545-fe96-def550fd409f"
      },
      "outputs": [
        {
          "output_type": "stream",
          "name": "stdout",
          "text": [
            "[5, 10, 15, 20, 25, 30, 35, 40, 45, 50, 55, 60, 65, 70, 75, 80, 85, 90, 95, 100, 105, 110, 115, 120, 125, 130, 135, 140, 145, 150, 155, 160, 165, 170, 175, 180, 185, 190, 195, 200, 205, 210, 215, 220, 225, 230, 235, 240, 245, 250]\n"
          ]
        },
        {
          "output_type": "execute_result",
          "data": {
            "text/plain": [
              "50"
            ]
          },
          "metadata": {},
          "execution_count": 1
        }
      ],
      "source": [
        "lista=[indice*5 for indice in range(1,51)]\n",
        "print(lista)\n",
        "len(lista)"
      ]
    },
    {
      "cell_type": "markdown",
      "source": [
        "caricare in una nuova llista solo i numeri di 10"
      ],
      "metadata": {
        "id": "wPsl16rNy5EK"
      }
    },
    {
      "cell_type": "code",
      "source": [
        "lista2=[i for i in lista if i%10==0]\n",
        "print(lista2)\n",
        "len(lista2)"
      ],
      "metadata": {
        "colab": {
          "base_uri": "https://localhost:8080/"
        },
        "id": "vceQPL0Ty8P9",
        "outputId": "157e7aa7-bae9-42fe-d144-5a27c2f08900"
      },
      "execution_count": null,
      "outputs": [
        {
          "output_type": "stream",
          "name": "stdout",
          "text": [
            "[10, 20, 30, 40, 50, 60, 70, 80, 90, 100, 110, 120, 130, 140, 150, 160, 170, 180, 190, 200, 210, 220, 230, 240, 250]\n"
          ]
        },
        {
          "output_type": "execute_result",
          "data": {
            "text/plain": [
              "25"
            ]
          },
          "metadata": {},
          "execution_count": 57
        }
      ]
    },
    {
      "cell_type": "markdown",
      "source": [
        "eliminare dallla seconda lista tutti i numeri compresi tra 30 e 60 e vislualizzare tutti gli eelmenti della lista"
      ],
      "metadata": {
        "id": "7MOo0ft-BTcj"
      }
    },
    {
      "cell_type": "code",
      "source": [
        "for indice in range(len(lista2)):\n",
        "  if 30<=lista2[indice]<=60:    \n",
        "     lista2[indice]=0\n",
        "while True:\n",
        "   if 0 in lista2:\n",
        "     lista2.remove(0)\n",
        "   else:\n",
        "     print(lista2)\n",
        "     break "
      ],
      "metadata": {
        "colab": {
          "base_uri": "https://localhost:8080/"
        },
        "id": "PzRYYatTBZzi",
        "outputId": "6b4c4812-a07c-450c-9dc4-9b67f4c94d76"
      },
      "execution_count": null,
      "outputs": [
        {
          "output_type": "stream",
          "name": "stdout",
          "text": [
            "[10, 20, 70, 80, 90, 100, 110, 120, 130, 140, 150, 160, 170, 180, 190, 200, 210, 220, 230, 240, 250]\n"
          ]
        }
      ]
    },
    {
      "cell_type": "code",
      "source": [
        "meta=int(len(lista)/2)\n",
        "print(lista[meta-2:meta+3])"
      ],
      "metadata": {
        "colab": {
          "base_uri": "https://localhost:8080/"
        },
        "id": "ylkOTmgWGF3w",
        "outputId": "853ba00c-a67f-491a-9841-ba882ef81f02"
      },
      "execution_count": null,
      "outputs": [
        {
          "output_type": "stream",
          "name": "stdout",
          "text": [
            "[120, 125, 130, 135, 140]\n"
          ]
        }
      ]
    },
    {
      "cell_type": "code",
      "source": [],
      "metadata": {
        "id": "phP5AyDeGUZZ"
      },
      "execution_count": null,
      "outputs": []
    }
  ]
}