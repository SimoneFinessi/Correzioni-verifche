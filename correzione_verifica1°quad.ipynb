{
  "nbformat": 4,
  "nbformat_minor": 0,
  "metadata": {
    "colab": {
      "provenance": [],
      "authorship_tag": "ABX9TyMGngQaB6kOCtn9TrA3/6S2",
      "include_colab_link": true
    },
    "kernelspec": {
      "name": "python3",
      "display_name": "Python 3"
    },
    "language_info": {
      "name": "python"
    }
  },
  "cells": [
    {
      "cell_type": "markdown",
      "metadata": {
        "id": "view-in-github",
        "colab_type": "text"
      },
      "source": [
        "<a href=\"https://colab.research.google.com/github/SimoneFinessi/Correzioni-verifche/blob/main/correzione_verifica1%C2%B0quad.ipynb\" target=\"_parent\"><img src=\"https://colab.research.google.com/assets/colab-badge.svg\" alt=\"Open In Colab\"/></a>"
      ]
    },
    {
      "cell_type": "markdown",
      "source": [
        "Un gruppo di amici ha trascorso il ponte di sant’Ambrogio presso una famosa località sciistica e hanno voluto creare una cassa comune in cui mettere, al bisogno, i soldi da utilizzare per tutte le spese (vitto, alloggio, trasporti, impianti sciistici, …). In particolare, i contributi dei vari amici sono stati i seguenti:\n",
        "Aldo ha contribuito diverse volte, versando 10€, 20€, 40€, 100€ e 5€\n",
        "Anche Gianni ha contribuito diverse volte, versando 50€, 50€, 25€ e 30€\n",
        "Andrea ha dato due soli contributi, versando 200€ e 150€\n",
        "Miki infine ha versato molto spesso poche cifre: 5€, 5€, 10€, 15€, 5€, 5€, 10€, 5€ e 20€\n",
        "Scegliere una struttura dati (una sola) che possa contenere tutte le informazioni e chiamarla “cassaComune”. Utilizzare poi questa struttura dati e scrivere il codice per estrarre le seguenti informazioni\n"
      ],
      "metadata": {
        "id": "FIbBX7aUBjo2"
      }
    },
    {
      "cell_type": "code",
      "source": [
        "cassaComune={\n",
        "    \"Aldo\":[10,20,40,100,5],\n",
        "    \"Gianni\":[50,50,25,30],\n",
        "    \"Andrea\":[200,150],\n",
        "    \"Miki\":[5,5,10,15,5,5,10,5,20]\n",
        "     }\n"
      ],
      "metadata": {
        "id": "2uxZQhL6CKfB"
      },
      "execution_count": null,
      "outputs": []
    },
    {
      "cell_type": "code",
      "source": [
        "for amici,versamenti in cassaComune.items():\n",
        "  print(amici,versamenti[-2:])"
      ],
      "metadata": {
        "colab": {
          "base_uri": "https://localhost:8080/"
        },
        "id": "FJXomxk4DRji",
        "outputId": "8b1eb32b-2a26-4bb7-9442-dbcae395cd38"
      },
      "execution_count": null,
      "outputs": [
        {
          "output_type": "stream",
          "name": "stdout",
          "text": [
            "Aldo [100, 5]\n",
            "Gianni [25, 30]\n",
            "Andrea [200, 150]\n",
            "Miki [5, 20]\n"
          ]
        }
      ]
    },
    {
      "cell_type": "code",
      "source": [
        "for amici,versamenti in cassaComune.items():\n",
        "  print(amici,sum(versamenti))"
      ],
      "metadata": {
        "colab": {
          "base_uri": "https://localhost:8080/"
        },
        "id": "V89v2XuLDkgz",
        "outputId": "921ebdb8-5d00-4b0f-b568-3c1c9ccb0079"
      },
      "execution_count": null,
      "outputs": [
        {
          "output_type": "stream",
          "name": "stdout",
          "text": [
            "Aldo 175\n",
            "Gianni 155\n",
            "Andrea 350\n",
            "Miki 80\n"
          ]
        }
      ]
    },
    {
      "cell_type": "code",
      "source": [
        "max(cassaComune,key=cassaComune.get)"
      ],
      "metadata": {
        "colab": {
          "base_uri": "https://localhost:8080/",
          "height": 36
        },
        "id": "wk98JqPnDowg",
        "outputId": "e67dba11-69ca-4ddb-8cd5-3ec752fe0d36"
      },
      "execution_count": null,
      "outputs": [
        {
          "output_type": "execute_result",
          "data": {
            "text/plain": [
              "'Andrea'"
            ],
            "application/vnd.google.colaboratory.intrinsic+json": {
              "type": "string"
            }
          },
          "metadata": {},
          "execution_count": 7
        }
      ]
    },
    {
      "cell_type": "code",
      "source": [
        "cassaComune=[\n",
        "    {\"nome\":\"Aldo\",\"versamenti\":[10,20,40,100,5]},\n",
        "    {\"nome\":\"Gianni\",\"versamenti\":[50,50,25,30]},\n",
        "    {\"nome\":\"Andrea\",\"versamenti\":[200,150]},\n",
        "    {\"nome\":\"Miki\",\"versamenti\":[5,5,10,15,5,5,10,5,20]}\n",
        "]\n"
      ],
      "metadata": {
        "id": "sQs4Xg3UR20u"
      },
      "execution_count": null,
      "outputs": []
    },
    {
      "cell_type": "code",
      "source": [
        "x=False\n",
        "i=0\n",
        "while x==False and i<len(cassaComune):\n",
        " if cassaComune[i][\"nome\"]==\"Andrea\":\n",
        "   del cassaComune[i]\n",
        " i+=1\n"
      ],
      "metadata": {
        "id": "E81DBX4XR30n"
      },
      "execution_count": null,
      "outputs": []
    },
    {
      "cell_type": "code",
      "source": [
        "cassaComune"
      ],
      "metadata": {
        "colab": {
          "base_uri": "https://localhost:8080/"
        },
        "id": "P8jyUuVaSjW1",
        "outputId": "b42f95f0-3e93-4f99-d3a2-d6b3e8b48679"
      },
      "execution_count": null,
      "outputs": [
        {
          "output_type": "execute_result",
          "data": {
            "text/plain": [
              "[{'nome': 'Aldo', 'versamenti': [10, 20, 40, 100, 5]},\n",
              " {'nome': 'Gianni', 'versamenti': [50, 50, 25, 30]},\n",
              " {'nome': 'Miki', 'versamenti': [5, 5, 10, 15, 5, 5, 10, 5, 20]}]"
            ]
          },
          "metadata": {},
          "execution_count": 10
        }
      ]
    }
  ]
}