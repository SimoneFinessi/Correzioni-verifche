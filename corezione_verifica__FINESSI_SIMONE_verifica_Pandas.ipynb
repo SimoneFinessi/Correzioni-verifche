{
  "nbformat": 4,
  "nbformat_minor": 0,
  "metadata": {
    "colab": {
      "provenance": [],
      "authorship_tag": "ABX9TyNaHx+y4cEhwAl28ZtmWEXB",
      "include_colab_link": true
    },
    "kernelspec": {
      "name": "python3",
      "display_name": "Python 3"
    },
    "language_info": {
      "name": "python"
    }
  },
  "cells": [
    {
      "cell_type": "markdown",
      "metadata": {
        "id": "view-in-github",
        "colab_type": "text"
      },
      "source": [
        "<a href=\"https://colab.research.google.com/github/SimoneFinessi/Correzioni-verifche/blob/main/corezione_verifica__FINESSI_SIMONE_verifica_Pandas.ipynb\" target=\"_parent\"><img src=\"https://colab.research.google.com/assets/colab-badge.svg\" alt=\"Open In Colab\"/></a>"
      ]
    },
    {
      "cell_type": "code",
      "execution_count": null,
      "metadata": {
        "id": "BFQ8ek2gYa27"
      },
      "outputs": [],
      "source": [
        "import pandas as pd"
      ]
    },
    {
      "cell_type": "markdown",
      "source": [
        "1. caricare i dati del file in un dataframe Pandas"
      ],
      "metadata": {
        "id": "pjuKNeI6Ze9z"
      }
    },
    {
      "cell_type": "code",
      "source": [
        "df=pd.read_csv(\"https://raw.githubusercontent.com/wtitze/3E/main/2010.csv\",delimiter=\";\")"
      ],
      "metadata": {
        "id": "Eqb6mbB6Y0Py"
      },
      "execution_count": null,
      "outputs": []
    },
    {
      "cell_type": "code",
      "source": [
        "df"
      ],
      "metadata": {
        "id": "xFdUfuxvZV2u"
      },
      "execution_count": null,
      "outputs": []
    },
    {
      "cell_type": "code",
      "source": [
        "df.head(1)#serve solo a me "
      ],
      "metadata": {
        "id": "mdm9fzcnaK94"
      },
      "execution_count": null,
      "outputs": []
    },
    {
      "cell_type": "markdown",
      "source": [
        "2. visualizzare le colonne del titolo e del genere dei primi 10 film"
      ],
      "metadata": {
        "id": "TKQvim3IZcLJ"
      }
    },
    {
      "cell_type": "code",
      "source": [
        "df[[\"Title\",\"Genres\"]][:10]"
      ],
      "metadata": {
        "id": "8-taSzZMZnFK"
      },
      "execution_count": null,
      "outputs": []
    },
    {
      "cell_type": "code",
      "source": [
        "df[[\"Title\",\"Genres\"]].head(10)#altro modo ancora"
      ],
      "metadata": {
        "id": "wveFOQK4Zq_9"
      },
      "execution_count": null,
      "outputs": []
    },
    {
      "cell_type": "markdown",
      "source": [
        "3. visualizzare le colonne del titolo e del genere dei primi 10 film in un modo diverso dal precedente"
      ],
      "metadata": {
        "id": "be1iCF--Znu-"
      }
    },
    {
      "cell_type": "code",
      "source": [
        "df.loc[:9,[\"Title\",\"Genres\"]]"
      ],
      "metadata": {
        "id": "YR6Xh4vKaq4U"
      },
      "execution_count": null,
      "outputs": []
    },
    {
      "cell_type": "markdown",
      "source": [
        "4. visualizzare i film in inglese realizzati in Francia"
      ],
      "metadata": {
        "id": "cfyIwwrDZrST"
      }
    },
    {
      "cell_type": "code",
      "source": [
        "df[(df.Language==\"English\")&(df.Country==\"France\")]"
      ],
      "metadata": {
        "id": "WjfLMz2oZtRB"
      },
      "execution_count": null,
      "outputs": []
    },
    {
      "cell_type": "markdown",
      "source": [
        "5. visualizzare i film di guerra drammatici"
      ],
      "metadata": {
        "id": "nynqpicCZtfw"
      }
    },
    {
      "cell_type": "code",
      "source": [
        "df[(df.Genres.str.contains(\"Drama\"))&(df.Genres.str.contains(\"War\"))]"
      ],
      "metadata": {
        "id": "MFVjnBFwZvtr"
      },
      "execution_count": null,
      "outputs": []
    },
    {
      "cell_type": "markdown",
      "source": [
        "\n",
        "6. visualizzare i film fantasy e i thriller"
      ],
      "metadata": {
        "id": "Psy450TCZv52"
      }
    },
    {
      "cell_type": "code",
      "source": [
        "df[(df.Genres.str.contains(\"Fantasy\"))|(df.Genres.str.contains(\"Thriller\"))]"
      ],
      "metadata": {
        "id": "OQH7b9enZxuk"
      },
      "execution_count": null,
      "outputs": []
    },
    {
      "cell_type": "markdown",
      "source": [
        "7. visualizzare il budget complessivo dei film realizzati in Spagna\n"
      ],
      "metadata": {
        "id": "PkqH6oi7Zx7R"
      }
    },
    {
      "cell_type": "code",
      "source": [
        "df.Budget[df.Country==\"Spain\"].sum()"
      ],
      "metadata": {
        "colab": {
          "base_uri": "https://localhost:8080/"
        },
        "id": "zsaWhmAIZzTg",
        "outputId": "b7460ac0-b54a-44a2-cc1a-49b2f3963c4b"
      },
      "execution_count": null,
      "outputs": [
        {
          "output_type": "execute_result",
          "data": {
            "text/plain": [
              "150000000.0"
            ]
          },
          "metadata": {},
          "execution_count": 6
        }
      ]
    },
    {
      "cell_type": "code",
      "source": [
        "df[df.Country==\"Spain\"]"
      ],
      "metadata": {
        "id": "nX4-Vvbwef4o"
      },
      "execution_count": null,
      "outputs": []
    },
    {
      "cell_type": "markdown",
      "source": [
        "8. visualizzare il numero di film di guerra realizzati in Spagna\n"
      ],
      "metadata": {
        "id": "pz7lrC_pZzeD"
      }
    },
    {
      "cell_type": "code",
      "source": [
        "len(df[(df.Country==\"Spain\")&(df.Genres.str.contains(\"War\"))])"
      ],
      "metadata": {
        "colab": {
          "base_uri": "https://localhost:8080/"
        },
        "id": "Wc1J-VIqZ0sV",
        "outputId": "6f0b19cd-95b9-4cd4-b079-4c75186c2b2f"
      },
      "execution_count": null,
      "outputs": [
        {
          "output_type": "execute_result",
          "data": {
            "text/plain": [
              "1"
            ]
          },
          "metadata": {},
          "execution_count": 38
        }
      ]
    },
    {
      "cell_type": "markdown",
      "source": [
        "9. visualizzare i titoli dei film di cui non si conosce il budget\n"
      ],
      "metadata": {
        "id": "B-SiSGk9Z04v"
      }
    },
    {
      "cell_type": "code",
      "source": [
        "df.Title[df.Budget.isnull()]"
      ],
      "metadata": {
        "id": "nv9YuZa8Z2IF"
      },
      "execution_count": null,
      "outputs": []
    },
    {
      "cell_type": "markdown",
      "source": [],
      "metadata": {
        "id": "WPI7nX5BvXYe"
      }
    },
    {
      "cell_type": "markdown",
      "source": [
        "10. visualizzare i titoli dei film e il relativo regista. Ordinare a partire dal film che ha il budget più alto\n"
      ],
      "metadata": {
        "id": "kl57mO1BZ2UW"
      }
    },
    {
      "cell_type": "code",
      "source": [
        "df.sort_values(by=[\"Budget\"],ascending=False)[[\"Title\",\"Director\"]]#sbaglato in verifica"
      ],
      "metadata": {
        "id": "4v1sTfo8Z39a",
        "colab": {
          "base_uri": "https://localhost:8080/",
          "height": 424
        },
        "outputId": "7d69b778-1e66-4ef9-d2eb-440e77368c9a"
      },
      "execution_count": null,
      "outputs": [
        {
          "output_type": "execute_result",
          "data": {
            "text/plain": [
              "                                             Title           Director\n",
              "90                                          Kites         Anurag Basu\n",
              "534                                   John Carter      Andrew Stanton\n",
              "163                                       Tangled        Nathan Greno\n",
              "351   Pirates of the Caribbean: On Stranger Tides        Rob Marshall\n",
              "618                         The Dark Knight Rises   Christopher Nolan\n",
              "...                                            ...                ...\n",
              "1599                      War & Peace                             NaN\n",
              "1600                            Wings                             NaN\n",
              "1601                       Wolf Creek                             NaN\n",
              "1602                Wuthering Heights                             NaN\n",
              "1603          Yu-Gi-Oh! Duel Monsters                             NaN\n",
              "\n",
              "[1604 rows x 2 columns]"
            ],
            "text/html": [
              "\n",
              "  <div id=\"df-a721c106-c307-46a5-a7fc-3db8e7805e69\">\n",
              "    <div class=\"colab-df-container\">\n",
              "      <div>\n",
              "<style scoped>\n",
              "    .dataframe tbody tr th:only-of-type {\n",
              "        vertical-align: middle;\n",
              "    }\n",
              "\n",
              "    .dataframe tbody tr th {\n",
              "        vertical-align: top;\n",
              "    }\n",
              "\n",
              "    .dataframe thead th {\n",
              "        text-align: right;\n",
              "    }\n",
              "</style>\n",
              "<table border=\"1\" class=\"dataframe\">\n",
              "  <thead>\n",
              "    <tr style=\"text-align: right;\">\n",
              "      <th></th>\n",
              "      <th>Title</th>\n",
              "      <th>Director</th>\n",
              "    </tr>\n",
              "  </thead>\n",
              "  <tbody>\n",
              "    <tr>\n",
              "      <th>90</th>\n",
              "      <td>Kites</td>\n",
              "      <td>Anurag Basu</td>\n",
              "    </tr>\n",
              "    <tr>\n",
              "      <th>534</th>\n",
              "      <td>John Carter</td>\n",
              "      <td>Andrew Stanton</td>\n",
              "    </tr>\n",
              "    <tr>\n",
              "      <th>163</th>\n",
              "      <td>Tangled</td>\n",
              "      <td>Nathan Greno</td>\n",
              "    </tr>\n",
              "    <tr>\n",
              "      <th>351</th>\n",
              "      <td>Pirates of the Caribbean: On Stranger Tides</td>\n",
              "      <td>Rob Marshall</td>\n",
              "    </tr>\n",
              "    <tr>\n",
              "      <th>618</th>\n",
              "      <td>The Dark Knight Rises</td>\n",
              "      <td>Christopher Nolan</td>\n",
              "    </tr>\n",
              "    <tr>\n",
              "      <th>...</th>\n",
              "      <td>...</td>\n",
              "      <td>...</td>\n",
              "    </tr>\n",
              "    <tr>\n",
              "      <th>1599</th>\n",
              "      <td>War &amp; Peace</td>\n",
              "      <td>NaN</td>\n",
              "    </tr>\n",
              "    <tr>\n",
              "      <th>1600</th>\n",
              "      <td>Wings</td>\n",
              "      <td>NaN</td>\n",
              "    </tr>\n",
              "    <tr>\n",
              "      <th>1601</th>\n",
              "      <td>Wolf Creek</td>\n",
              "      <td>NaN</td>\n",
              "    </tr>\n",
              "    <tr>\n",
              "      <th>1602</th>\n",
              "      <td>Wuthering Heights</td>\n",
              "      <td>NaN</td>\n",
              "    </tr>\n",
              "    <tr>\n",
              "      <th>1603</th>\n",
              "      <td>Yu-Gi-Oh! Duel Monsters</td>\n",
              "      <td>NaN</td>\n",
              "    </tr>\n",
              "  </tbody>\n",
              "</table>\n",
              "<p>1604 rows × 2 columns</p>\n",
              "</div>\n",
              "      <button class=\"colab-df-convert\" onclick=\"convertToInteractive('df-a721c106-c307-46a5-a7fc-3db8e7805e69')\"\n",
              "              title=\"Convert this dataframe to an interactive table.\"\n",
              "              style=\"display:none;\">\n",
              "        \n",
              "  <svg xmlns=\"http://www.w3.org/2000/svg\" height=\"24px\"viewBox=\"0 0 24 24\"\n",
              "       width=\"24px\">\n",
              "    <path d=\"M0 0h24v24H0V0z\" fill=\"none\"/>\n",
              "    <path d=\"M18.56 5.44l.94 2.06.94-2.06 2.06-.94-2.06-.94-.94-2.06-.94 2.06-2.06.94zm-11 1L8.5 8.5l.94-2.06 2.06-.94-2.06-.94L8.5 2.5l-.94 2.06-2.06.94zm10 10l.94 2.06.94-2.06 2.06-.94-2.06-.94-.94-2.06-.94 2.06-2.06.94z\"/><path d=\"M17.41 7.96l-1.37-1.37c-.4-.4-.92-.59-1.43-.59-.52 0-1.04.2-1.43.59L10.3 9.45l-7.72 7.72c-.78.78-.78 2.05 0 2.83L4 21.41c.39.39.9.59 1.41.59.51 0 1.02-.2 1.41-.59l7.78-7.78 2.81-2.81c.8-.78.8-2.07 0-2.86zM5.41 20L4 18.59l7.72-7.72 1.47 1.35L5.41 20z\"/>\n",
              "  </svg>\n",
              "      </button>\n",
              "      \n",
              "  <style>\n",
              "    .colab-df-container {\n",
              "      display:flex;\n",
              "      flex-wrap:wrap;\n",
              "      gap: 12px;\n",
              "    }\n",
              "\n",
              "    .colab-df-convert {\n",
              "      background-color: #E8F0FE;\n",
              "      border: none;\n",
              "      border-radius: 50%;\n",
              "      cursor: pointer;\n",
              "      display: none;\n",
              "      fill: #1967D2;\n",
              "      height: 32px;\n",
              "      padding: 0 0 0 0;\n",
              "      width: 32px;\n",
              "    }\n",
              "\n",
              "    .colab-df-convert:hover {\n",
              "      background-color: #E2EBFA;\n",
              "      box-shadow: 0px 1px 2px rgba(60, 64, 67, 0.3), 0px 1px 3px 1px rgba(60, 64, 67, 0.15);\n",
              "      fill: #174EA6;\n",
              "    }\n",
              "\n",
              "    [theme=dark] .colab-df-convert {\n",
              "      background-color: #3B4455;\n",
              "      fill: #D2E3FC;\n",
              "    }\n",
              "\n",
              "    [theme=dark] .colab-df-convert:hover {\n",
              "      background-color: #434B5C;\n",
              "      box-shadow: 0px 1px 3px 1px rgba(0, 0, 0, 0.15);\n",
              "      filter: drop-shadow(0px 1px 2px rgba(0, 0, 0, 0.3));\n",
              "      fill: #FFFFFF;\n",
              "    }\n",
              "  </style>\n",
              "\n",
              "      <script>\n",
              "        const buttonEl =\n",
              "          document.querySelector('#df-a721c106-c307-46a5-a7fc-3db8e7805e69 button.colab-df-convert');\n",
              "        buttonEl.style.display =\n",
              "          google.colab.kernel.accessAllowed ? 'block' : 'none';\n",
              "\n",
              "        async function convertToInteractive(key) {\n",
              "          const element = document.querySelector('#df-a721c106-c307-46a5-a7fc-3db8e7805e69');\n",
              "          const dataTable =\n",
              "            await google.colab.kernel.invokeFunction('convertToInteractive',\n",
              "                                                     [key], {});\n",
              "          if (!dataTable) return;\n",
              "\n",
              "          const docLinkHtml = 'Like what you see? Visit the ' +\n",
              "            '<a target=\"_blank\" href=https://colab.research.google.com/notebooks/data_table.ipynb>data table notebook</a>'\n",
              "            + ' to learn more about interactive tables.';\n",
              "          element.innerHTML = '';\n",
              "          dataTable['output_type'] = 'display_data';\n",
              "          await google.colab.output.renderOutput(dataTable, element);\n",
              "          const docLink = document.createElement('div');\n",
              "          docLink.innerHTML = docLinkHtml;\n",
              "          element.appendChild(docLink);\n",
              "        }\n",
              "      </script>\n",
              "    </div>\n",
              "  </div>\n",
              "  "
            ]
          },
          "metadata": {},
          "execution_count": 7
        }
      ]
    },
    {
      "cell_type": "markdown",
      "source": [
        "11. visualizzare i titoli dei film che hanno incassato più di quanto è stato speso per realizzarli\n"
      ],
      "metadata": {
        "id": "0G17CwUiZ4OJ"
      }
    },
    {
      "cell_type": "code",
      "source": [
        "df[\"Title\"][df[\"Gross Earnings\"]>df.Budget]"
      ],
      "metadata": {
        "id": "_tKm9l4YZ5b5",
        "colab": {
          "base_uri": "https://localhost:8080/"
        },
        "outputId": "8822abd4-974b-46ff-a794-0ec4d757f571"
      },
      "execution_count": null,
      "outputs": [
        {
          "output_type": "execute_result",
          "data": {
            "text/plain": [
              "0                      127 Hours \n",
              "5            Alice in Wonderland \n",
              "6            Alice in Wonderland \n",
              "8                Alpha and Omega \n",
              "15                     Beginners \n",
              "                  ...            \n",
              "1477             The Jungle Book \n",
              "1483           The Perfect Match \n",
              "1484    The Purge: Election Year \n",
              "1485     The Secret Life of Pets \n",
              "1486                The Shallows \n",
              "Name: Title, Length: 548, dtype: object"
            ]
          },
          "metadata": {},
          "execution_count": 19
        }
      ]
    },
    {
      "cell_type": "markdown",
      "source": [
        "12. visualizzare i film in cui ha recitato Johnny Depp\n"
      ],
      "metadata": {
        "id": "7vyW8EFkZ5r3"
      }
    },
    {
      "cell_type": "code",
      "source": [
        "df[(df[\"Actor 1\"].isin([\"Johnny Depp\"]))|(df[\"Actor 2\"].isin([\"Johnny Depp\"]))|(df[\"Actor 3\"].isin([\"Johnny Depp\"]))]"
      ],
      "metadata": {
        "id": "qtgxaM9jZ7Hz"
      },
      "execution_count": null,
      "outputs": []
    },
    {
      "cell_type": "markdown",
      "source": [
        "13. visualizzare il regista che ha ricevuto più like su Facebook per un suo film\n"
      ],
      "metadata": {
        "id": "qv-HO55qZ7UV"
      }
    },
    {
      "cell_type": "code",
      "source": [
        "df.Director[df[\"Facebook Likes - Director\"]==df[\"Facebook Likes - Director\"].max()]#sbagliato in verifica"
      ],
      "metadata": {
        "colab": {
          "base_uri": "https://localhost:8080/"
        },
        "id": "Gnq0qJAvZ8lV",
        "outputId": "39d27253-3be7-4083-fab2-13de6dc3a663"
      },
      "execution_count": null,
      "outputs": [
        {
          "output_type": "execute_result",
          "data": {
            "text/plain": [
              "732    Joseph Gordon-Levitt\n",
              "Name: Director, dtype: object"
            ]
          },
          "metadata": {},
          "execution_count": 8
        }
      ]
    },
    {
      "cell_type": "markdown",
      "source": [
        "14. visualizzare i film che hanno avuto un numero di like superiore alla media dei like assegnati ai film\n"
      ],
      "metadata": {
        "id": "Jrjt9OxXZ85p"
      }
    },
    {
      "cell_type": "code",
      "source": [
        "df[df[\"Facebook likes - Movie\"]>df[\"Facebook likes - Movie\"].mean()]"
      ],
      "metadata": {
        "id": "ftHaN656Z-XZ"
      },
      "execution_count": null,
      "outputs": []
    },
    {
      "cell_type": "markdown",
      "source": [
        "15. verificare se durano di più, in media, i film americani o i film tedeschi\n"
      ],
      "metadata": {
        "id": "rpiuUmxUZ-lh"
      }
    },
    {
      "cell_type": "code",
      "source": [
        "print(\"americani\" if df.Duration[df.Country==\"America\"].mean() > df.Duration[df.Country==\"German\"].mean() else \"tedeschi\") #sbagliato in verifica"
      ],
      "metadata": {
        "id": "yilNkbCIZ_56"
      },
      "execution_count": null,
      "outputs": []
    },
    {
      "cell_type": "markdown",
      "source": [
        "16. aggiungere una colonna al dataframe contenente la somma dei like degli attori. Chiamare la colonna 'attori'\n"
      ],
      "metadata": {
        "id": "Bz_ES9i7aAKX"
      }
    },
    {
      "cell_type": "code",
      "source": [
        "df=df.assign(attori=df['Facebook Likes - Actor 1']+df['Facebook Likes - Actor 2']+df['Facebook Likes - Actor 3'])"
      ],
      "metadata": {
        "id": "81Vu_V6vaAgX"
      },
      "execution_count": null,
      "outputs": []
    },
    {
      "cell_type": "code",
      "source": [
        "df"
      ],
      "metadata": {
        "id": "Zdq1DSoHpwPQ"
      },
      "execution_count": null,
      "outputs": []
    },
    {
      "cell_type": "markdown",
      "source": [
        "17. rimuovere la colonna appena creata"
      ],
      "metadata": {
        "id": "Wrmp-BOnaA1t"
      }
    },
    {
      "cell_type": "code",
      "source": [
        "del df[\"attori\"]#sbagliato in verifica"
      ],
      "metadata": {
        "id": "1ndLya12aBaA"
      },
      "execution_count": null,
      "outputs": []
    },
    {
      "cell_type": "markdown",
      "source": [
        "18. eliminare dal dataframe i film italiani"
      ],
      "metadata": {
        "id": "-E44ymfnaBo1"
      }
    },
    {
      "cell_type": "code",
      "source": [
        "df.drop(df[df['Country']=='Italy'].index, inplace=True)#sbagliato in verifica\n",
        "\n"
      ],
      "metadata": {
        "id": "_zInXKPnZtF9"
      },
      "execution_count": null,
      "outputs": []
    },
    {
      "cell_type": "markdown",
      "source": [
        "verifica B"
      ],
      "metadata": {
        "id": "EZXxJTKm-6mG"
      }
    },
    {
      "cell_type": "code",
      "source": [
        "pf=pd.read_excel(\"https://raw.githubusercontent.com/wtitze/3E/main/Medals.xlsx\")"
      ],
      "metadata": {
        "colab": {
          "base_uri": "https://localhost:8080/"
        },
        "id": "wRHcGAXn_ITO",
        "outputId": "47280cd0-3cc7-48ec-c7dc-efb8a77ede04"
      },
      "execution_count": null,
      "outputs": [
        {
          "output_type": "stream",
          "name": "stderr",
          "text": [
            "/usr/local/lib/python3.7/dist-packages/openpyxl/styles/stylesheet.py:226: UserWarning: Workbook contains no default style, apply openpyxl's default\n",
            "  warn(\"Workbook contains no default style, apply openpyxl's default\")\n"
          ]
        }
      ]
    },
    {
      "cell_type": "code",
      "source": [
        "pf.head(1)"
      ],
      "metadata": {
        "colab": {
          "base_uri": "https://localhost:8080/",
          "height": 81
        },
        "id": "5Bhtm5_mALEn",
        "outputId": "d1436ef2-94d3-43e3-fe0d-4f09b665ef7e"
      },
      "execution_count": null,
      "outputs": [
        {
          "output_type": "execute_result",
          "data": {
            "text/plain": [
              "   Rank                  Team/NOC  Gold  Silver  Bronze  Total  Rank by Total\n",
              "0     1  United States of America    39      41      33    113              1"
            ],
            "text/html": [
              "\n",
              "  <div id=\"df-49f9f8ff-7916-42d8-814a-3675e7ed8d0b\">\n",
              "    <div class=\"colab-df-container\">\n",
              "      <div>\n",
              "<style scoped>\n",
              "    .dataframe tbody tr th:only-of-type {\n",
              "        vertical-align: middle;\n",
              "    }\n",
              "\n",
              "    .dataframe tbody tr th {\n",
              "        vertical-align: top;\n",
              "    }\n",
              "\n",
              "    .dataframe thead th {\n",
              "        text-align: right;\n",
              "    }\n",
              "</style>\n",
              "<table border=\"1\" class=\"dataframe\">\n",
              "  <thead>\n",
              "    <tr style=\"text-align: right;\">\n",
              "      <th></th>\n",
              "      <th>Rank</th>\n",
              "      <th>Team/NOC</th>\n",
              "      <th>Gold</th>\n",
              "      <th>Silver</th>\n",
              "      <th>Bronze</th>\n",
              "      <th>Total</th>\n",
              "      <th>Rank by Total</th>\n",
              "    </tr>\n",
              "  </thead>\n",
              "  <tbody>\n",
              "    <tr>\n",
              "      <th>0</th>\n",
              "      <td>1</td>\n",
              "      <td>United States of America</td>\n",
              "      <td>39</td>\n",
              "      <td>41</td>\n",
              "      <td>33</td>\n",
              "      <td>113</td>\n",
              "      <td>1</td>\n",
              "    </tr>\n",
              "  </tbody>\n",
              "</table>\n",
              "</div>\n",
              "      <button class=\"colab-df-convert\" onclick=\"convertToInteractive('df-49f9f8ff-7916-42d8-814a-3675e7ed8d0b')\"\n",
              "              title=\"Convert this dataframe to an interactive table.\"\n",
              "              style=\"display:none;\">\n",
              "        \n",
              "  <svg xmlns=\"http://www.w3.org/2000/svg\" height=\"24px\"viewBox=\"0 0 24 24\"\n",
              "       width=\"24px\">\n",
              "    <path d=\"M0 0h24v24H0V0z\" fill=\"none\"/>\n",
              "    <path d=\"M18.56 5.44l.94 2.06.94-2.06 2.06-.94-2.06-.94-.94-2.06-.94 2.06-2.06.94zm-11 1L8.5 8.5l.94-2.06 2.06-.94-2.06-.94L8.5 2.5l-.94 2.06-2.06.94zm10 10l.94 2.06.94-2.06 2.06-.94-2.06-.94-.94-2.06-.94 2.06-2.06.94z\"/><path d=\"M17.41 7.96l-1.37-1.37c-.4-.4-.92-.59-1.43-.59-.52 0-1.04.2-1.43.59L10.3 9.45l-7.72 7.72c-.78.78-.78 2.05 0 2.83L4 21.41c.39.39.9.59 1.41.59.51 0 1.02-.2 1.41-.59l7.78-7.78 2.81-2.81c.8-.78.8-2.07 0-2.86zM5.41 20L4 18.59l7.72-7.72 1.47 1.35L5.41 20z\"/>\n",
              "  </svg>\n",
              "      </button>\n",
              "      \n",
              "  <style>\n",
              "    .colab-df-container {\n",
              "      display:flex;\n",
              "      flex-wrap:wrap;\n",
              "      gap: 12px;\n",
              "    }\n",
              "\n",
              "    .colab-df-convert {\n",
              "      background-color: #E8F0FE;\n",
              "      border: none;\n",
              "      border-radius: 50%;\n",
              "      cursor: pointer;\n",
              "      display: none;\n",
              "      fill: #1967D2;\n",
              "      height: 32px;\n",
              "      padding: 0 0 0 0;\n",
              "      width: 32px;\n",
              "    }\n",
              "\n",
              "    .colab-df-convert:hover {\n",
              "      background-color: #E2EBFA;\n",
              "      box-shadow: 0px 1px 2px rgba(60, 64, 67, 0.3), 0px 1px 3px 1px rgba(60, 64, 67, 0.15);\n",
              "      fill: #174EA6;\n",
              "    }\n",
              "\n",
              "    [theme=dark] .colab-df-convert {\n",
              "      background-color: #3B4455;\n",
              "      fill: #D2E3FC;\n",
              "    }\n",
              "\n",
              "    [theme=dark] .colab-df-convert:hover {\n",
              "      background-color: #434B5C;\n",
              "      box-shadow: 0px 1px 3px 1px rgba(0, 0, 0, 0.15);\n",
              "      filter: drop-shadow(0px 1px 2px rgba(0, 0, 0, 0.3));\n",
              "      fill: #FFFFFF;\n",
              "    }\n",
              "  </style>\n",
              "\n",
              "      <script>\n",
              "        const buttonEl =\n",
              "          document.querySelector('#df-49f9f8ff-7916-42d8-814a-3675e7ed8d0b button.colab-df-convert');\n",
              "        buttonEl.style.display =\n",
              "          google.colab.kernel.accessAllowed ? 'block' : 'none';\n",
              "\n",
              "        async function convertToInteractive(key) {\n",
              "          const element = document.querySelector('#df-49f9f8ff-7916-42d8-814a-3675e7ed8d0b');\n",
              "          const dataTable =\n",
              "            await google.colab.kernel.invokeFunction('convertToInteractive',\n",
              "                                                     [key], {});\n",
              "          if (!dataTable) return;\n",
              "\n",
              "          const docLinkHtml = 'Like what you see? Visit the ' +\n",
              "            '<a target=\"_blank\" href=https://colab.research.google.com/notebooks/data_table.ipynb>data table notebook</a>'\n",
              "            + ' to learn more about interactive tables.';\n",
              "          element.innerHTML = '';\n",
              "          dataTable['output_type'] = 'display_data';\n",
              "          await google.colab.output.renderOutput(dataTable, element);\n",
              "          const docLink = document.createElement('div');\n",
              "          docLink.innerHTML = docLinkHtml;\n",
              "          element.appendChild(docLink);\n",
              "        }\n",
              "      </script>\n",
              "    </div>\n",
              "  </div>\n",
              "  "
            ]
          },
          "metadata": {},
          "execution_count": 7
        }
      ]
    },
    {
      "cell_type": "code",
      "source": [
        "pf"
      ],
      "metadata": {
        "id": "L8YoHtcjBSMV"
      },
      "execution_count": null,
      "outputs": []
    },
    {
      "cell_type": "markdown",
      "source": [
        "visualizzare il totale delle medaglie delle prime 10 nazioni"
      ],
      "metadata": {
        "id": "STft79FW_H2S"
      }
    },
    {
      "cell_type": "code",
      "source": [
        "pf.Total[:10]"
      ],
      "metadata": {
        "id": "52gSGUCK_Kgy"
      },
      "execution_count": null,
      "outputs": []
    },
    {
      "cell_type": "markdown",
      "source": [
        "3. visualizzare la nazione (o le nazioni) che ha vinto, in totale, meno medaglie\n"
      ],
      "metadata": {
        "id": "m3f-Nn9e_KaE"
      }
    },
    {
      "cell_type": "code",
      "source": [
        "pf[pf.Total==pf.Total.min()]"
      ],
      "metadata": {
        "id": "cTqogqsh_KTZ"
      },
      "execution_count": null,
      "outputs": []
    },
    {
      "cell_type": "markdown",
      "source": [
        "4. visualizzare le nazioni che hanno vinto più medaglie di bronzo rispetto alle medaglie d'argento\n"
      ],
      "metadata": {
        "id": "33q2MNSq_KNu"
      }
    },
    {
      "cell_type": "code",
      "source": [
        "pf[pf.Bronze>pf.Silver]"
      ],
      "metadata": {
        "id": "jhyI8qcp_KIf"
      },
      "execution_count": null,
      "outputs": []
    },
    {
      "cell_type": "markdown",
      "source": [
        "5. visualizzare il numero di nazioni che non hanno vinto medaglie d'oro\n"
      ],
      "metadata": {
        "id": "yJvtqCCZ_KCK"
      }
    },
    {
      "cell_type": "code",
      "source": [
        "pf[pf.Gold==0]"
      ],
      "metadata": {
        "id": "RKha0CJC_J6W"
      },
      "execution_count": null,
      "outputs": []
    },
    {
      "cell_type": "markdown",
      "source": [
        "6. visualizzare il numero totale di medaglie d'oro e d'argento\n"
      ],
      "metadata": {
        "id": "ewQh9tda_J1t"
      }
    },
    {
      "cell_type": "code",
      "source": [
        "pf[[\"Gold\",\"Silver\"]].sum()"
      ],
      "metadata": {
        "id": "dUZJuk5r_Jww"
      },
      "execution_count": null,
      "outputs": []
    },
    {
      "cell_type": "markdown",
      "source": [
        "7. visualizzare la nazione che ha vinto più medaglie di bronzo\n"
      ],
      "metadata": {
        "id": "dKyP0L2x_JqS"
      }
    },
    {
      "cell_type": "code",
      "source": [
        "pf[pf.Bronze==pf.Bronze.max()]"
      ],
      "metadata": {
        "colab": {
          "base_uri": "https://localhost:8080/",
          "height": 81
        },
        "id": "GO7PcraF_Jfr",
        "outputId": "6f66d44a-1f1f-4413-c66d-6ec911619b43"
      },
      "execution_count": null,
      "outputs": [
        {
          "output_type": "execute_result",
          "data": {
            "text/plain": [
              "   Rank                  Team/NOC  Gold  Silver  Bronze  Total  Rank by Total\n",
              "0     1  United States of America    39      41      33    113              1"
            ],
            "text/html": [
              "\n",
              "  <div id=\"df-9d753003-795d-4081-b66e-1575630b19f3\">\n",
              "    <div class=\"colab-df-container\">\n",
              "      <div>\n",
              "<style scoped>\n",
              "    .dataframe tbody tr th:only-of-type {\n",
              "        vertical-align: middle;\n",
              "    }\n",
              "\n",
              "    .dataframe tbody tr th {\n",
              "        vertical-align: top;\n",
              "    }\n",
              "\n",
              "    .dataframe thead th {\n",
              "        text-align: right;\n",
              "    }\n",
              "</style>\n",
              "<table border=\"1\" class=\"dataframe\">\n",
              "  <thead>\n",
              "    <tr style=\"text-align: right;\">\n",
              "      <th></th>\n",
              "      <th>Rank</th>\n",
              "      <th>Team/NOC</th>\n",
              "      <th>Gold</th>\n",
              "      <th>Silver</th>\n",
              "      <th>Bronze</th>\n",
              "      <th>Total</th>\n",
              "      <th>Rank by Total</th>\n",
              "    </tr>\n",
              "  </thead>\n",
              "  <tbody>\n",
              "    <tr>\n",
              "      <th>0</th>\n",
              "      <td>1</td>\n",
              "      <td>United States of America</td>\n",
              "      <td>39</td>\n",
              "      <td>41</td>\n",
              "      <td>33</td>\n",
              "      <td>113</td>\n",
              "      <td>1</td>\n",
              "    </tr>\n",
              "  </tbody>\n",
              "</table>\n",
              "</div>\n",
              "      <button class=\"colab-df-convert\" onclick=\"convertToInteractive('df-9d753003-795d-4081-b66e-1575630b19f3')\"\n",
              "              title=\"Convert this dataframe to an interactive table.\"\n",
              "              style=\"display:none;\">\n",
              "        \n",
              "  <svg xmlns=\"http://www.w3.org/2000/svg\" height=\"24px\"viewBox=\"0 0 24 24\"\n",
              "       width=\"24px\">\n",
              "    <path d=\"M0 0h24v24H0V0z\" fill=\"none\"/>\n",
              "    <path d=\"M18.56 5.44l.94 2.06.94-2.06 2.06-.94-2.06-.94-.94-2.06-.94 2.06-2.06.94zm-11 1L8.5 8.5l.94-2.06 2.06-.94-2.06-.94L8.5 2.5l-.94 2.06-2.06.94zm10 10l.94 2.06.94-2.06 2.06-.94-2.06-.94-.94-2.06-.94 2.06-2.06.94z\"/><path d=\"M17.41 7.96l-1.37-1.37c-.4-.4-.92-.59-1.43-.59-.52 0-1.04.2-1.43.59L10.3 9.45l-7.72 7.72c-.78.78-.78 2.05 0 2.83L4 21.41c.39.39.9.59 1.41.59.51 0 1.02-.2 1.41-.59l7.78-7.78 2.81-2.81c.8-.78.8-2.07 0-2.86zM5.41 20L4 18.59l7.72-7.72 1.47 1.35L5.41 20z\"/>\n",
              "  </svg>\n",
              "      </button>\n",
              "      \n",
              "  <style>\n",
              "    .colab-df-container {\n",
              "      display:flex;\n",
              "      flex-wrap:wrap;\n",
              "      gap: 12px;\n",
              "    }\n",
              "\n",
              "    .colab-df-convert {\n",
              "      background-color: #E8F0FE;\n",
              "      border: none;\n",
              "      border-radius: 50%;\n",
              "      cursor: pointer;\n",
              "      display: none;\n",
              "      fill: #1967D2;\n",
              "      height: 32px;\n",
              "      padding: 0 0 0 0;\n",
              "      width: 32px;\n",
              "    }\n",
              "\n",
              "    .colab-df-convert:hover {\n",
              "      background-color: #E2EBFA;\n",
              "      box-shadow: 0px 1px 2px rgba(60, 64, 67, 0.3), 0px 1px 3px 1px rgba(60, 64, 67, 0.15);\n",
              "      fill: #174EA6;\n",
              "    }\n",
              "\n",
              "    [theme=dark] .colab-df-convert {\n",
              "      background-color: #3B4455;\n",
              "      fill: #D2E3FC;\n",
              "    }\n",
              "\n",
              "    [theme=dark] .colab-df-convert:hover {\n",
              "      background-color: #434B5C;\n",
              "      box-shadow: 0px 1px 3px 1px rgba(0, 0, 0, 0.15);\n",
              "      filter: drop-shadow(0px 1px 2px rgba(0, 0, 0, 0.3));\n",
              "      fill: #FFFFFF;\n",
              "    }\n",
              "  </style>\n",
              "\n",
              "      <script>\n",
              "        const buttonEl =\n",
              "          document.querySelector('#df-9d753003-795d-4081-b66e-1575630b19f3 button.colab-df-convert');\n",
              "        buttonEl.style.display =\n",
              "          google.colab.kernel.accessAllowed ? 'block' : 'none';\n",
              "\n",
              "        async function convertToInteractive(key) {\n",
              "          const element = document.querySelector('#df-9d753003-795d-4081-b66e-1575630b19f3');\n",
              "          const dataTable =\n",
              "            await google.colab.kernel.invokeFunction('convertToInteractive',\n",
              "                                                     [key], {});\n",
              "          if (!dataTable) return;\n",
              "\n",
              "          const docLinkHtml = 'Like what you see? Visit the ' +\n",
              "            '<a target=\"_blank\" href=https://colab.research.google.com/notebooks/data_table.ipynb>data table notebook</a>'\n",
              "            + ' to learn more about interactive tables.';\n",
              "          element.innerHTML = '';\n",
              "          dataTable['output_type'] = 'display_data';\n",
              "          await google.colab.output.renderOutput(dataTable, element);\n",
              "          const docLink = document.createElement('div');\n",
              "          docLink.innerHTML = docLinkHtml;\n",
              "          element.appendChild(docLink);\n",
              "        }\n",
              "      </script>\n",
              "    </div>\n",
              "  </div>\n",
              "  "
            ]
          },
          "metadata": {},
          "execution_count": 20
        }
      ]
    },
    {
      "cell_type": "markdown",
      "source": [
        "8. visualizzare le nazioni che non hanno vinto medaglie d'argento\n"
      ],
      "metadata": {
        "id": "COS4IqKD_I3b"
      }
    },
    {
      "cell_type": "code",
      "source": [
        "pf[pf.Silver==0]"
      ],
      "metadata": {
        "id": "fgGFP7TDAcr9"
      },
      "execution_count": null,
      "outputs": []
    },
    {
      "cell_type": "markdown",
      "source": [
        "9. visualizzare le nazioni che hanno vinto un numero di medaglie d'argento superiore alla media"
      ],
      "metadata": {
        "id": "rH83EOTIAc47"
      }
    },
    {
      "cell_type": "code",
      "source": [
        "pf[pf.Silver>pf.Silver.mean()]"
      ],
      "metadata": {
        "id": "kptd-VHQAd3B"
      },
      "execution_count": null,
      "outputs": []
    },
    {
      "cell_type": "markdown",
      "source": [
        "leggere i dati al link https://raw.githubusercontent.com/wtitze/3E/main/Athletes.xlsx"
      ],
      "metadata": {
        "id": "-Cc1EPmPCGcf"
      }
    },
    {
      "cell_type": "code",
      "source": [
        "atleti=pd.read_excel(\"https://raw.githubusercontent.com/wtitze/3E/main/Athletes.xlsx\")"
      ],
      "metadata": {
        "id": "OKbPKBdmCHe1"
      },
      "execution_count": null,
      "outputs": []
    },
    {
      "cell_type": "code",
      "source": [
        "atleti.head(1)"
      ],
      "metadata": {
        "colab": {
          "base_uri": "https://localhost:8080/",
          "height": 81
        },
        "id": "smEjFKogCMfC",
        "outputId": "8dba4e00-b199-4063-8648-cddf9f339fa3"
      },
      "execution_count": null,
      "outputs": [
        {
          "output_type": "execute_result",
          "data": {
            "text/plain": [
              "              Name     NOC    Discipline\n",
              "0  AALERUD Katrine  Norway  Cycling Road"
            ],
            "text/html": [
              "\n",
              "  <div id=\"df-b7649b55-e6ba-4f6c-9cd9-1c0936524eaa\">\n",
              "    <div class=\"colab-df-container\">\n",
              "      <div>\n",
              "<style scoped>\n",
              "    .dataframe tbody tr th:only-of-type {\n",
              "        vertical-align: middle;\n",
              "    }\n",
              "\n",
              "    .dataframe tbody tr th {\n",
              "        vertical-align: top;\n",
              "    }\n",
              "\n",
              "    .dataframe thead th {\n",
              "        text-align: right;\n",
              "    }\n",
              "</style>\n",
              "<table border=\"1\" class=\"dataframe\">\n",
              "  <thead>\n",
              "    <tr style=\"text-align: right;\">\n",
              "      <th></th>\n",
              "      <th>Name</th>\n",
              "      <th>NOC</th>\n",
              "      <th>Discipline</th>\n",
              "    </tr>\n",
              "  </thead>\n",
              "  <tbody>\n",
              "    <tr>\n",
              "      <th>0</th>\n",
              "      <td>AALERUD Katrine</td>\n",
              "      <td>Norway</td>\n",
              "      <td>Cycling Road</td>\n",
              "    </tr>\n",
              "  </tbody>\n",
              "</table>\n",
              "</div>\n",
              "      <button class=\"colab-df-convert\" onclick=\"convertToInteractive('df-b7649b55-e6ba-4f6c-9cd9-1c0936524eaa')\"\n",
              "              title=\"Convert this dataframe to an interactive table.\"\n",
              "              style=\"display:none;\">\n",
              "        \n",
              "  <svg xmlns=\"http://www.w3.org/2000/svg\" height=\"24px\"viewBox=\"0 0 24 24\"\n",
              "       width=\"24px\">\n",
              "    <path d=\"M0 0h24v24H0V0z\" fill=\"none\"/>\n",
              "    <path d=\"M18.56 5.44l.94 2.06.94-2.06 2.06-.94-2.06-.94-.94-2.06-.94 2.06-2.06.94zm-11 1L8.5 8.5l.94-2.06 2.06-.94-2.06-.94L8.5 2.5l-.94 2.06-2.06.94zm10 10l.94 2.06.94-2.06 2.06-.94-2.06-.94-.94-2.06-.94 2.06-2.06.94z\"/><path d=\"M17.41 7.96l-1.37-1.37c-.4-.4-.92-.59-1.43-.59-.52 0-1.04.2-1.43.59L10.3 9.45l-7.72 7.72c-.78.78-.78 2.05 0 2.83L4 21.41c.39.39.9.59 1.41.59.51 0 1.02-.2 1.41-.59l7.78-7.78 2.81-2.81c.8-.78.8-2.07 0-2.86zM5.41 20L4 18.59l7.72-7.72 1.47 1.35L5.41 20z\"/>\n",
              "  </svg>\n",
              "      </button>\n",
              "      \n",
              "  <style>\n",
              "    .colab-df-container {\n",
              "      display:flex;\n",
              "      flex-wrap:wrap;\n",
              "      gap: 12px;\n",
              "    }\n",
              "\n",
              "    .colab-df-convert {\n",
              "      background-color: #E8F0FE;\n",
              "      border: none;\n",
              "      border-radius: 50%;\n",
              "      cursor: pointer;\n",
              "      display: none;\n",
              "      fill: #1967D2;\n",
              "      height: 32px;\n",
              "      padding: 0 0 0 0;\n",
              "      width: 32px;\n",
              "    }\n",
              "\n",
              "    .colab-df-convert:hover {\n",
              "      background-color: #E2EBFA;\n",
              "      box-shadow: 0px 1px 2px rgba(60, 64, 67, 0.3), 0px 1px 3px 1px rgba(60, 64, 67, 0.15);\n",
              "      fill: #174EA6;\n",
              "    }\n",
              "\n",
              "    [theme=dark] .colab-df-convert {\n",
              "      background-color: #3B4455;\n",
              "      fill: #D2E3FC;\n",
              "    }\n",
              "\n",
              "    [theme=dark] .colab-df-convert:hover {\n",
              "      background-color: #434B5C;\n",
              "      box-shadow: 0px 1px 3px 1px rgba(0, 0, 0, 0.15);\n",
              "      filter: drop-shadow(0px 1px 2px rgba(0, 0, 0, 0.3));\n",
              "      fill: #FFFFFF;\n",
              "    }\n",
              "  </style>\n",
              "\n",
              "      <script>\n",
              "        const buttonEl =\n",
              "          document.querySelector('#df-b7649b55-e6ba-4f6c-9cd9-1c0936524eaa button.colab-df-convert');\n",
              "        buttonEl.style.display =\n",
              "          google.colab.kernel.accessAllowed ? 'block' : 'none';\n",
              "\n",
              "        async function convertToInteractive(key) {\n",
              "          const element = document.querySelector('#df-b7649b55-e6ba-4f6c-9cd9-1c0936524eaa');\n",
              "          const dataTable =\n",
              "            await google.colab.kernel.invokeFunction('convertToInteractive',\n",
              "                                                     [key], {});\n",
              "          if (!dataTable) return;\n",
              "\n",
              "          const docLinkHtml = 'Like what you see? Visit the ' +\n",
              "            '<a target=\"_blank\" href=https://colab.research.google.com/notebooks/data_table.ipynb>data table notebook</a>'\n",
              "            + ' to learn more about interactive tables.';\n",
              "          element.innerHTML = '';\n",
              "          dataTable['output_type'] = 'display_data';\n",
              "          await google.colab.output.renderOutput(dataTable, element);\n",
              "          const docLink = document.createElement('div');\n",
              "          docLink.innerHTML = docLinkHtml;\n",
              "          element.appendChild(docLink);\n",
              "        }\n",
              "      </script>\n",
              "    </div>\n",
              "  </div>\n",
              "  "
            ]
          },
          "metadata": {},
          "execution_count": 28
        }
      ]
    },
    {
      "cell_type": "code",
      "source": [
        "atleti"
      ],
      "metadata": {
        "colab": {
          "base_uri": "https://localhost:8080/",
          "height": 2268
        },
        "id": "duDuZE6NCnQA",
        "outputId": "81e8f53d-7d41-437e-d01f-8a3fbd07a3f4"
      },
      "execution_count": null,
      "outputs": [
        {
          "output_type": "execute_result",
          "data": {
            "text/plain": [
              "                        Name      NOC           Discipline\n",
              "0            AALERUD Katrine   Norway         Cycling Road\n",
              "1                ABAD Nestor    Spain  Artistic Gymnastics\n",
              "2          ABAGNALE Giovanni    Italy               Rowing\n",
              "3             ABALDE Alberto    Spain           Basketball\n",
              "4              ABALDE Tamara    Spain           Basketball\n",
              "...                      ...      ...                  ...\n",
              "11080  ZWICKER Martin Detlef  Germany               Hockey\n",
              "11081      ZWOLINSKA Klaudia   Poland         Canoe Slalom\n",
              "11082           ZYKOVA Yulia      ROC             Shooting\n",
              "11083      ZYUZINA Ekaterina      ROC              Sailing\n",
              "11084        ZYZANSKA Sylwia   Poland              Archery\n",
              "\n",
              "[11085 rows x 3 columns]"
            ],
            "text/html": [
              "\n",
              "  <div id=\"df-8e7f9eb5-2ade-47c0-8b23-efd3ca5e41a7\">\n",
              "    <div class=\"colab-df-container\">\n",
              "      <div>\n",
              "<style scoped>\n",
              "    .dataframe tbody tr th:only-of-type {\n",
              "        vertical-align: middle;\n",
              "    }\n",
              "\n",
              "    .dataframe tbody tr th {\n",
              "        vertical-align: top;\n",
              "    }\n",
              "\n",
              "    .dataframe thead th {\n",
              "        text-align: right;\n",
              "    }\n",
              "</style>\n",
              "<table border=\"1\" class=\"dataframe\">\n",
              "  <thead>\n",
              "    <tr style=\"text-align: right;\">\n",
              "      <th></th>\n",
              "      <th>Name</th>\n",
              "      <th>NOC</th>\n",
              "      <th>Discipline</th>\n",
              "    </tr>\n",
              "  </thead>\n",
              "  <tbody>\n",
              "    <tr>\n",
              "      <th>0</th>\n",
              "      <td>AALERUD Katrine</td>\n",
              "      <td>Norway</td>\n",
              "      <td>Cycling Road</td>\n",
              "    </tr>\n",
              "    <tr>\n",
              "      <th>1</th>\n",
              "      <td>ABAD Nestor</td>\n",
              "      <td>Spain</td>\n",
              "      <td>Artistic Gymnastics</td>\n",
              "    </tr>\n",
              "    <tr>\n",
              "      <th>2</th>\n",
              "      <td>ABAGNALE Giovanni</td>\n",
              "      <td>Italy</td>\n",
              "      <td>Rowing</td>\n",
              "    </tr>\n",
              "    <tr>\n",
              "      <th>3</th>\n",
              "      <td>ABALDE Alberto</td>\n",
              "      <td>Spain</td>\n",
              "      <td>Basketball</td>\n",
              "    </tr>\n",
              "    <tr>\n",
              "      <th>4</th>\n",
              "      <td>ABALDE Tamara</td>\n",
              "      <td>Spain</td>\n",
              "      <td>Basketball</td>\n",
              "    </tr>\n",
              "    <tr>\n",
              "      <th>...</th>\n",
              "      <td>...</td>\n",
              "      <td>...</td>\n",
              "      <td>...</td>\n",
              "    </tr>\n",
              "    <tr>\n",
              "      <th>11080</th>\n",
              "      <td>ZWICKER Martin Detlef</td>\n",
              "      <td>Germany</td>\n",
              "      <td>Hockey</td>\n",
              "    </tr>\n",
              "    <tr>\n",
              "      <th>11081</th>\n",
              "      <td>ZWOLINSKA Klaudia</td>\n",
              "      <td>Poland</td>\n",
              "      <td>Canoe Slalom</td>\n",
              "    </tr>\n",
              "    <tr>\n",
              "      <th>11082</th>\n",
              "      <td>ZYKOVA Yulia</td>\n",
              "      <td>ROC</td>\n",
              "      <td>Shooting</td>\n",
              "    </tr>\n",
              "    <tr>\n",
              "      <th>11083</th>\n",
              "      <td>ZYUZINA Ekaterina</td>\n",
              "      <td>ROC</td>\n",
              "      <td>Sailing</td>\n",
              "    </tr>\n",
              "    <tr>\n",
              "      <th>11084</th>\n",
              "      <td>ZYZANSKA Sylwia</td>\n",
              "      <td>Poland</td>\n",
              "      <td>Archery</td>\n",
              "    </tr>\n",
              "  </tbody>\n",
              "</table>\n",
              "<p>11085 rows × 3 columns</p>\n",
              "</div>\n",
              "      <button class=\"colab-df-convert\" onclick=\"convertToInteractive('df-8e7f9eb5-2ade-47c0-8b23-efd3ca5e41a7')\"\n",
              "              title=\"Convert this dataframe to an interactive table.\"\n",
              "              style=\"display:none;\">\n",
              "        \n",
              "  <svg xmlns=\"http://www.w3.org/2000/svg\" height=\"24px\"viewBox=\"0 0 24 24\"\n",
              "       width=\"24px\">\n",
              "    <path d=\"M0 0h24v24H0V0z\" fill=\"none\"/>\n",
              "    <path d=\"M18.56 5.44l.94 2.06.94-2.06 2.06-.94-2.06-.94-.94-2.06-.94 2.06-2.06.94zm-11 1L8.5 8.5l.94-2.06 2.06-.94-2.06-.94L8.5 2.5l-.94 2.06-2.06.94zm10 10l.94 2.06.94-2.06 2.06-.94-2.06-.94-.94-2.06-.94 2.06-2.06.94z\"/><path d=\"M17.41 7.96l-1.37-1.37c-.4-.4-.92-.59-1.43-.59-.52 0-1.04.2-1.43.59L10.3 9.45l-7.72 7.72c-.78.78-.78 2.05 0 2.83L4 21.41c.39.39.9.59 1.41.59.51 0 1.02-.2 1.41-.59l7.78-7.78 2.81-2.81c.8-.78.8-2.07 0-2.86zM5.41 20L4 18.59l7.72-7.72 1.47 1.35L5.41 20z\"/>\n",
              "  </svg>\n",
              "      </button>\n",
              "      \n",
              "  <style>\n",
              "    .colab-df-container {\n",
              "      display:flex;\n",
              "      flex-wrap:wrap;\n",
              "      gap: 12px;\n",
              "    }\n",
              "\n",
              "    .colab-df-convert {\n",
              "      background-color: #E8F0FE;\n",
              "      border: none;\n",
              "      border-radius: 50%;\n",
              "      cursor: pointer;\n",
              "      display: none;\n",
              "      fill: #1967D2;\n",
              "      height: 32px;\n",
              "      padding: 0 0 0 0;\n",
              "      width: 32px;\n",
              "    }\n",
              "\n",
              "    .colab-df-convert:hover {\n",
              "      background-color: #E2EBFA;\n",
              "      box-shadow: 0px 1px 2px rgba(60, 64, 67, 0.3), 0px 1px 3px 1px rgba(60, 64, 67, 0.15);\n",
              "      fill: #174EA6;\n",
              "    }\n",
              "\n",
              "    [theme=dark] .colab-df-convert {\n",
              "      background-color: #3B4455;\n",
              "      fill: #D2E3FC;\n",
              "    }\n",
              "\n",
              "    [theme=dark] .colab-df-convert:hover {\n",
              "      background-color: #434B5C;\n",
              "      box-shadow: 0px 1px 3px 1px rgba(0, 0, 0, 0.15);\n",
              "      filter: drop-shadow(0px 1px 2px rgba(0, 0, 0, 0.3));\n",
              "      fill: #FFFFFF;\n",
              "    }\n",
              "  </style>\n",
              "\n",
              "      <script>\n",
              "        const buttonEl =\n",
              "          document.querySelector('#df-8e7f9eb5-2ade-47c0-8b23-efd3ca5e41a7 button.colab-df-convert');\n",
              "        buttonEl.style.display =\n",
              "          google.colab.kernel.accessAllowed ? 'block' : 'none';\n",
              "\n",
              "        async function convertToInteractive(key) {\n",
              "          const element = document.querySelector('#df-8e7f9eb5-2ade-47c0-8b23-efd3ca5e41a7');\n",
              "          const dataTable =\n",
              "            await google.colab.kernel.invokeFunction('convertToInteractive',\n",
              "                                                     [key], {});\n",
              "          if (!dataTable) return;\n",
              "\n",
              "          const docLinkHtml = 'Like what you see? Visit the ' +\n",
              "            '<a target=\"_blank\" href=https://colab.research.google.com/notebooks/data_table.ipynb>data table notebook</a>'\n",
              "            + ' to learn more about interactive tables.';\n",
              "          element.innerHTML = '';\n",
              "          dataTable['output_type'] = 'display_data';\n",
              "          await google.colab.output.renderOutput(dataTable, element);\n",
              "          const docLink = document.createElement('div');\n",
              "          docLink.innerHTML = docLinkHtml;\n",
              "          element.appendChild(docLink);\n",
              "        }\n",
              "      </script>\n",
              "    </div>\n",
              "  </div>\n",
              "  "
            ]
          },
          "metadata": {},
          "execution_count": 41
        }
      ]
    },
    {
      "cell_type": "markdown",
      "source": [
        "11. visualizzare i nomi degli atleti italiani\n"
      ],
      "metadata": {
        "id": "mM6Jb2YcCXHL"
      }
    },
    {
      "cell_type": "code",
      "source": [
        "atleti.Name[atleti.NOC==\"Italy\"]"
      ],
      "metadata": {
        "id": "5Pjxf0lzCXDR"
      },
      "execution_count": null,
      "outputs": []
    },
    {
      "cell_type": "markdown",
      "source": [
        "12. controllare se gli atleti italiani sono di più o di meno degli atleti francesi\n"
      ],
      "metadata": {
        "id": "2FonuBhuCW14"
      }
    },
    {
      "cell_type": "code",
      "source": [
        "print(\"italiani\" if len(atleti.Name[atleti.NOC==\"Italy\"]) > len(atleti.Name[atleti.NOC==\"France\"]) else \"francesi\")"
      ],
      "metadata": {
        "id": "ggMGazWdCWyF"
      },
      "execution_count": null,
      "outputs": []
    },
    {
      "cell_type": "markdown",
      "source": [
        "13. visualizzare tutti gli atleti che si chiamano Giovanni\n"
      ],
      "metadata": {
        "id": "uj8Rc4IVCWql"
      }
    },
    {
      "cell_type": "code",
      "source": [
        "atleti[atleti.Name.str.contains(\"Giovanni\")]"
      ],
      "metadata": {
        "id": "9Hh-K8j4CWmd"
      },
      "execution_count": null,
      "outputs": []
    },
    {
      "cell_type": "markdown",
      "source": [
        "14. visualizzare gli atleti che si chiamano Alberto ma che non sono italiani\n"
      ],
      "metadata": {
        "id": "MFOm73OMCWec"
      }
    },
    {
      "cell_type": "code",
      "source": [
        "atleti[(atleti.Name.str.contains(\"Alberto\"))&(atleti.NOC!=\"Italy\")]"
      ],
      "metadata": {
        "id": "KTj_9lsVCWZq"
      },
      "execution_count": null,
      "outputs": []
    },
    {
      "cell_type": "markdown",
      "source": [
        "15. visualizzare il numero di atleti della squadra di basket spagnola\n"
      ],
      "metadata": {
        "id": "oFfUG9rUCWR5"
      }
    },
    {
      "cell_type": "code",
      "source": [
        "len(atleti[(atleti.Discipline==\"Basketball\")&(atleti.NOC==\"Spain\")])"
      ],
      "metadata": {
        "id": "psWs6wX0CWM9"
      },
      "execution_count": null,
      "outputs": []
    },
    {
      "cell_type": "markdown",
      "source": [
        "16. visualizzare i dati del dataframe ordinati in ordine alfabetico sulla disciplina\n"
      ],
      "metadata": {
        "id": "peQR8OeJCWGe"
      }
    },
    {
      "cell_type": "code",
      "source": [
        "atleti.sort_values(by=[\"Discipline\"])"
      ],
      "metadata": {
        "id": "ibSkzYiYCWBx"
      },
      "execution_count": null,
      "outputs": []
    },
    {
      "cell_type": "markdown",
      "source": [
        "17. visualizzare gli atleti scandinavi\n"
      ],
      "metadata": {
        "id": "wrHnCh-eCV6Y"
      }
    },
    {
      "cell_type": "code",
      "source": [
        "atleti[atleti.NOC==\"Scandinavians\"]"
      ],
      "metadata": {
        "id": "vJP6WYYmCV0Y"
      },
      "execution_count": null,
      "outputs": []
    },
    {
      "cell_type": "markdown",
      "source": [
        "18. eliminare tutti gli atleti della Francia"
      ],
      "metadata": {
        "id": "rYO2laKNCVp8"
      }
    },
    {
      "cell_type": "code",
      "source": [
        "atleti.drop(atleti[atleti.NOC=='France'].index, inplace=True)"
      ],
      "metadata": {
        "id": "NYw2iVAkCVex"
      },
      "execution_count": null,
      "outputs": []
    },
    {
      "cell_type": "code",
      "source": [
        "atleti"
      ],
      "metadata": {
        "id": "YeB545IfFthu"
      },
      "execution_count": null,
      "outputs": []
    },
    {
      "cell_type": "markdown",
      "source": [
        "VERIFICA C"
      ],
      "metadata": {
        "id": "Mb5BO0JrF2fn"
      }
    },
    {
      "cell_type": "markdown",
      "source": [
        "1. caricare i dati del file in un dataframe Pandas\n"
      ],
      "metadata": {
        "id": "cYjHSPD6M0fO"
      }
    },
    {
      "cell_type": "code",
      "source": [
        "import pandas as pd"
      ],
      "metadata": {
        "id": "TNCMl45h7nyD"
      },
      "execution_count": null,
      "outputs": []
    },
    {
      "cell_type": "code",
      "source": [
        "team=pd.read_excel(\"https://raw.githubusercontent.com/wtitze/3E/main/Teams.xlsx\")"
      ],
      "metadata": {
        "id": "xvV2_VlhM0bk"
      },
      "execution_count": null,
      "outputs": []
    },
    {
      "cell_type": "code",
      "source": [
        "team[:1]"
      ],
      "metadata": {
        "colab": {
          "base_uri": "https://localhost:8080/",
          "height": 81
        },
        "id": "X7MOPPSwNzm5",
        "outputId": "d68c9c98-1023-4536-d5e2-8c9c38ca102e"
      },
      "execution_count": null,
      "outputs": [
        {
          "output_type": "execute_result",
          "data": {
            "text/plain": [
              "      Name      Discipline      NOC Event\n",
              "0  Belgium  3x3 Basketball  Belgium   Men"
            ],
            "text/html": [
              "\n",
              "  <div id=\"df-a20af558-e842-490b-b075-3d6c7df0e3c9\">\n",
              "    <div class=\"colab-df-container\">\n",
              "      <div>\n",
              "<style scoped>\n",
              "    .dataframe tbody tr th:only-of-type {\n",
              "        vertical-align: middle;\n",
              "    }\n",
              "\n",
              "    .dataframe tbody tr th {\n",
              "        vertical-align: top;\n",
              "    }\n",
              "\n",
              "    .dataframe thead th {\n",
              "        text-align: right;\n",
              "    }\n",
              "</style>\n",
              "<table border=\"1\" class=\"dataframe\">\n",
              "  <thead>\n",
              "    <tr style=\"text-align: right;\">\n",
              "      <th></th>\n",
              "      <th>Name</th>\n",
              "      <th>Discipline</th>\n",
              "      <th>NOC</th>\n",
              "      <th>Event</th>\n",
              "    </tr>\n",
              "  </thead>\n",
              "  <tbody>\n",
              "    <tr>\n",
              "      <th>0</th>\n",
              "      <td>Belgium</td>\n",
              "      <td>3x3 Basketball</td>\n",
              "      <td>Belgium</td>\n",
              "      <td>Men</td>\n",
              "    </tr>\n",
              "  </tbody>\n",
              "</table>\n",
              "</div>\n",
              "      <button class=\"colab-df-convert\" onclick=\"convertToInteractive('df-a20af558-e842-490b-b075-3d6c7df0e3c9')\"\n",
              "              title=\"Convert this dataframe to an interactive table.\"\n",
              "              style=\"display:none;\">\n",
              "        \n",
              "  <svg xmlns=\"http://www.w3.org/2000/svg\" height=\"24px\"viewBox=\"0 0 24 24\"\n",
              "       width=\"24px\">\n",
              "    <path d=\"M0 0h24v24H0V0z\" fill=\"none\"/>\n",
              "    <path d=\"M18.56 5.44l.94 2.06.94-2.06 2.06-.94-2.06-.94-.94-2.06-.94 2.06-2.06.94zm-11 1L8.5 8.5l.94-2.06 2.06-.94-2.06-.94L8.5 2.5l-.94 2.06-2.06.94zm10 10l.94 2.06.94-2.06 2.06-.94-2.06-.94-.94-2.06-.94 2.06-2.06.94z\"/><path d=\"M17.41 7.96l-1.37-1.37c-.4-.4-.92-.59-1.43-.59-.52 0-1.04.2-1.43.59L10.3 9.45l-7.72 7.72c-.78.78-.78 2.05 0 2.83L4 21.41c.39.39.9.59 1.41.59.51 0 1.02-.2 1.41-.59l7.78-7.78 2.81-2.81c.8-.78.8-2.07 0-2.86zM5.41 20L4 18.59l7.72-7.72 1.47 1.35L5.41 20z\"/>\n",
              "  </svg>\n",
              "      </button>\n",
              "      \n",
              "  <style>\n",
              "    .colab-df-container {\n",
              "      display:flex;\n",
              "      flex-wrap:wrap;\n",
              "      gap: 12px;\n",
              "    }\n",
              "\n",
              "    .colab-df-convert {\n",
              "      background-color: #E8F0FE;\n",
              "      border: none;\n",
              "      border-radius: 50%;\n",
              "      cursor: pointer;\n",
              "      display: none;\n",
              "      fill: #1967D2;\n",
              "      height: 32px;\n",
              "      padding: 0 0 0 0;\n",
              "      width: 32px;\n",
              "    }\n",
              "\n",
              "    .colab-df-convert:hover {\n",
              "      background-color: #E2EBFA;\n",
              "      box-shadow: 0px 1px 2px rgba(60, 64, 67, 0.3), 0px 1px 3px 1px rgba(60, 64, 67, 0.15);\n",
              "      fill: #174EA6;\n",
              "    }\n",
              "\n",
              "    [theme=dark] .colab-df-convert {\n",
              "      background-color: #3B4455;\n",
              "      fill: #D2E3FC;\n",
              "    }\n",
              "\n",
              "    [theme=dark] .colab-df-convert:hover {\n",
              "      background-color: #434B5C;\n",
              "      box-shadow: 0px 1px 3px 1px rgba(0, 0, 0, 0.15);\n",
              "      filter: drop-shadow(0px 1px 2px rgba(0, 0, 0, 0.3));\n",
              "      fill: #FFFFFF;\n",
              "    }\n",
              "  </style>\n",
              "\n",
              "      <script>\n",
              "        const buttonEl =\n",
              "          document.querySelector('#df-a20af558-e842-490b-b075-3d6c7df0e3c9 button.colab-df-convert');\n",
              "        buttonEl.style.display =\n",
              "          google.colab.kernel.accessAllowed ? 'block' : 'none';\n",
              "\n",
              "        async function convertToInteractive(key) {\n",
              "          const element = document.querySelector('#df-a20af558-e842-490b-b075-3d6c7df0e3c9');\n",
              "          const dataTable =\n",
              "            await google.colab.kernel.invokeFunction('convertToInteractive',\n",
              "                                                     [key], {});\n",
              "          if (!dataTable) return;\n",
              "\n",
              "          const docLinkHtml = 'Like what you see? Visit the ' +\n",
              "            '<a target=\"_blank\" href=https://colab.research.google.com/notebooks/data_table.ipynb>data table notebook</a>'\n",
              "            + ' to learn more about interactive tables.';\n",
              "          element.innerHTML = '';\n",
              "          dataTable['output_type'] = 'display_data';\n",
              "          await google.colab.output.renderOutput(dataTable, element);\n",
              "          const docLink = document.createElement('div');\n",
              "          docLink.innerHTML = docLinkHtml;\n",
              "          element.appendChild(docLink);\n",
              "        }\n",
              "      </script>\n",
              "    </div>\n",
              "  </div>\n",
              "  "
            ]
          },
          "metadata": {},
          "execution_count": 4
        }
      ]
    },
    {
      "cell_type": "code",
      "source": [
        "team"
      ],
      "metadata": {
        "colab": {
          "base_uri": "https://localhost:8080/",
          "height": 1042
        },
        "id": "VusCpAf2NOxZ",
        "outputId": "ca8d5a48-ef1e-4f51-f6b0-17f13a1c7f8c"
      },
      "execution_count": null,
      "outputs": [
        {
          "output_type": "execute_result",
          "data": {
            "text/plain": [
              "              Name      Discipline                         NOC  Event\n",
              "0          Belgium  3x3 Basketball                     Belgium    Men\n",
              "1            China  3x3 Basketball  People's Republic of China    Men\n",
              "2            China  3x3 Basketball  People's Republic of China  Women\n",
              "3           France  3x3 Basketball                      France  Women\n",
              "4            Italy  3x3 Basketball                       Italy  Women\n",
              "..             ...             ...                         ...    ...\n",
              "738   South Africa      Water Polo                South Africa  Women\n",
              "739          Spain      Water Polo                       Spain    Men\n",
              "740          Spain      Water Polo                       Spain  Women\n",
              "741  United States      Water Polo    United States of America    Men\n",
              "742  United States      Water Polo    United States of America  Women\n",
              "\n",
              "[743 rows x 4 columns]"
            ],
            "text/html": [
              "\n",
              "  <div id=\"df-40680d0e-4949-4035-827f-b1c3f79c9aae\">\n",
              "    <div class=\"colab-df-container\">\n",
              "      <div>\n",
              "<style scoped>\n",
              "    .dataframe tbody tr th:only-of-type {\n",
              "        vertical-align: middle;\n",
              "    }\n",
              "\n",
              "    .dataframe tbody tr th {\n",
              "        vertical-align: top;\n",
              "    }\n",
              "\n",
              "    .dataframe thead th {\n",
              "        text-align: right;\n",
              "    }\n",
              "</style>\n",
              "<table border=\"1\" class=\"dataframe\">\n",
              "  <thead>\n",
              "    <tr style=\"text-align: right;\">\n",
              "      <th></th>\n",
              "      <th>Name</th>\n",
              "      <th>Discipline</th>\n",
              "      <th>NOC</th>\n",
              "      <th>Event</th>\n",
              "    </tr>\n",
              "  </thead>\n",
              "  <tbody>\n",
              "    <tr>\n",
              "      <th>0</th>\n",
              "      <td>Belgium</td>\n",
              "      <td>3x3 Basketball</td>\n",
              "      <td>Belgium</td>\n",
              "      <td>Men</td>\n",
              "    </tr>\n",
              "    <tr>\n",
              "      <th>1</th>\n",
              "      <td>China</td>\n",
              "      <td>3x3 Basketball</td>\n",
              "      <td>People's Republic of China</td>\n",
              "      <td>Men</td>\n",
              "    </tr>\n",
              "    <tr>\n",
              "      <th>2</th>\n",
              "      <td>China</td>\n",
              "      <td>3x3 Basketball</td>\n",
              "      <td>People's Republic of China</td>\n",
              "      <td>Women</td>\n",
              "    </tr>\n",
              "    <tr>\n",
              "      <th>3</th>\n",
              "      <td>France</td>\n",
              "      <td>3x3 Basketball</td>\n",
              "      <td>France</td>\n",
              "      <td>Women</td>\n",
              "    </tr>\n",
              "    <tr>\n",
              "      <th>4</th>\n",
              "      <td>Italy</td>\n",
              "      <td>3x3 Basketball</td>\n",
              "      <td>Italy</td>\n",
              "      <td>Women</td>\n",
              "    </tr>\n",
              "    <tr>\n",
              "      <th>...</th>\n",
              "      <td>...</td>\n",
              "      <td>...</td>\n",
              "      <td>...</td>\n",
              "      <td>...</td>\n",
              "    </tr>\n",
              "    <tr>\n",
              "      <th>738</th>\n",
              "      <td>South Africa</td>\n",
              "      <td>Water Polo</td>\n",
              "      <td>South Africa</td>\n",
              "      <td>Women</td>\n",
              "    </tr>\n",
              "    <tr>\n",
              "      <th>739</th>\n",
              "      <td>Spain</td>\n",
              "      <td>Water Polo</td>\n",
              "      <td>Spain</td>\n",
              "      <td>Men</td>\n",
              "    </tr>\n",
              "    <tr>\n",
              "      <th>740</th>\n",
              "      <td>Spain</td>\n",
              "      <td>Water Polo</td>\n",
              "      <td>Spain</td>\n",
              "      <td>Women</td>\n",
              "    </tr>\n",
              "    <tr>\n",
              "      <th>741</th>\n",
              "      <td>United States</td>\n",
              "      <td>Water Polo</td>\n",
              "      <td>United States of America</td>\n",
              "      <td>Men</td>\n",
              "    </tr>\n",
              "    <tr>\n",
              "      <th>742</th>\n",
              "      <td>United States</td>\n",
              "      <td>Water Polo</td>\n",
              "      <td>United States of America</td>\n",
              "      <td>Women</td>\n",
              "    </tr>\n",
              "  </tbody>\n",
              "</table>\n",
              "<p>743 rows × 4 columns</p>\n",
              "</div>\n",
              "      <button class=\"colab-df-convert\" onclick=\"convertToInteractive('df-40680d0e-4949-4035-827f-b1c3f79c9aae')\"\n",
              "              title=\"Convert this dataframe to an interactive table.\"\n",
              "              style=\"display:none;\">\n",
              "        \n",
              "  <svg xmlns=\"http://www.w3.org/2000/svg\" height=\"24px\"viewBox=\"0 0 24 24\"\n",
              "       width=\"24px\">\n",
              "    <path d=\"M0 0h24v24H0V0z\" fill=\"none\"/>\n",
              "    <path d=\"M18.56 5.44l.94 2.06.94-2.06 2.06-.94-2.06-.94-.94-2.06-.94 2.06-2.06.94zm-11 1L8.5 8.5l.94-2.06 2.06-.94-2.06-.94L8.5 2.5l-.94 2.06-2.06.94zm10 10l.94 2.06.94-2.06 2.06-.94-2.06-.94-.94-2.06-.94 2.06-2.06.94z\"/><path d=\"M17.41 7.96l-1.37-1.37c-.4-.4-.92-.59-1.43-.59-.52 0-1.04.2-1.43.59L10.3 9.45l-7.72 7.72c-.78.78-.78 2.05 0 2.83L4 21.41c.39.39.9.59 1.41.59.51 0 1.02-.2 1.41-.59l7.78-7.78 2.81-2.81c.8-.78.8-2.07 0-2.86zM5.41 20L4 18.59l7.72-7.72 1.47 1.35L5.41 20z\"/>\n",
              "  </svg>\n",
              "      </button>\n",
              "      \n",
              "  <style>\n",
              "    .colab-df-container {\n",
              "      display:flex;\n",
              "      flex-wrap:wrap;\n",
              "      gap: 12px;\n",
              "    }\n",
              "\n",
              "    .colab-df-convert {\n",
              "      background-color: #E8F0FE;\n",
              "      border: none;\n",
              "      border-radius: 50%;\n",
              "      cursor: pointer;\n",
              "      display: none;\n",
              "      fill: #1967D2;\n",
              "      height: 32px;\n",
              "      padding: 0 0 0 0;\n",
              "      width: 32px;\n",
              "    }\n",
              "\n",
              "    .colab-df-convert:hover {\n",
              "      background-color: #E2EBFA;\n",
              "      box-shadow: 0px 1px 2px rgba(60, 64, 67, 0.3), 0px 1px 3px 1px rgba(60, 64, 67, 0.15);\n",
              "      fill: #174EA6;\n",
              "    }\n",
              "\n",
              "    [theme=dark] .colab-df-convert {\n",
              "      background-color: #3B4455;\n",
              "      fill: #D2E3FC;\n",
              "    }\n",
              "\n",
              "    [theme=dark] .colab-df-convert:hover {\n",
              "      background-color: #434B5C;\n",
              "      box-shadow: 0px 1px 3px 1px rgba(0, 0, 0, 0.15);\n",
              "      filter: drop-shadow(0px 1px 2px rgba(0, 0, 0, 0.3));\n",
              "      fill: #FFFFFF;\n",
              "    }\n",
              "  </style>\n",
              "\n",
              "      <script>\n",
              "        const buttonEl =\n",
              "          document.querySelector('#df-40680d0e-4949-4035-827f-b1c3f79c9aae button.colab-df-convert');\n",
              "        buttonEl.style.display =\n",
              "          google.colab.kernel.accessAllowed ? 'block' : 'none';\n",
              "\n",
              "        async function convertToInteractive(key) {\n",
              "          const element = document.querySelector('#df-40680d0e-4949-4035-827f-b1c3f79c9aae');\n",
              "          const dataTable =\n",
              "            await google.colab.kernel.invokeFunction('convertToInteractive',\n",
              "                                                     [key], {});\n",
              "          if (!dataTable) return;\n",
              "\n",
              "          const docLinkHtml = 'Like what you see? Visit the ' +\n",
              "            '<a target=\"_blank\" href=https://colab.research.google.com/notebooks/data_table.ipynb>data table notebook</a>'\n",
              "            + ' to learn more about interactive tables.';\n",
              "          element.innerHTML = '';\n",
              "          dataTable['output_type'] = 'display_data';\n",
              "          await google.colab.output.renderOutput(dataTable, element);\n",
              "          const docLink = document.createElement('div');\n",
              "          docLink.innerHTML = docLinkHtml;\n",
              "          element.appendChild(docLink);\n",
              "        }\n",
              "      </script>\n",
              "    </div>\n",
              "  </div>\n",
              "  "
            ]
          },
          "metadata": {},
          "execution_count": 57
        }
      ]
    },
    {
      "cell_type": "markdown",
      "source": [
        "2. visualizzare le discipline a cui l'Italia ha partecipato\n"
      ],
      "metadata": {
        "id": "jas8B-rHM0Va"
      }
    },
    {
      "cell_type": "code",
      "source": [
        "team.Discipline[team.NOC==\"Italy\"]"
      ],
      "metadata": {
        "id": "l89ZVbB9M0R4"
      },
      "execution_count": null,
      "outputs": []
    },
    {
      "cell_type": "markdown",
      "source": [
        "3. visualizzare il numero di discipline a cui hanno partecipato gli Stati Uniti\n"
      ],
      "metadata": {
        "id": "wErUrbrvM0MW"
      }
    },
    {
      "cell_type": "code",
      "source": [
        "len(set(team.Discipline[team.NOC==\"United States of America\"]))"
      ],
      "metadata": {
        "colab": {
          "base_uri": "https://localhost:8080/"
        },
        "id": "EVkO-zZZM0I0",
        "outputId": "6ec3c7fe-1067-4a70-9f48-1dcf36e4f6d4"
      },
      "execution_count": null,
      "outputs": [
        {
          "output_type": "execute_result",
          "data": {
            "text/plain": [
              "18"
            ]
          },
          "metadata": {},
          "execution_count": 6
        }
      ]
    },
    {
      "cell_type": "markdown",
      "source": [
        "4. visualizzare il numero di squadre di basket femminile\n"
      ],
      "metadata": {
        "id": "xoBw-4y6M0Dj"
      }
    },
    {
      "cell_type": "code",
      "source": [
        "len(team[(team.Discipline.str.contains(\"Basketball\"))&(team.Event==\"Women\")])"
      ],
      "metadata": {
        "id": "p2nZJk5hMz_q"
      },
      "execution_count": null,
      "outputs": []
    },
    {
      "cell_type": "markdown",
      "source": [
        "5. visualizzare le discipline a cui hanno partecipato la Gran Bretagna e la Francia\n"
      ],
      "metadata": {
        "id": "2zOAEUx_Mz5A"
      }
    },
    {
      "cell_type": "code",
      "source": [
        "set(team.Discipline[team.NOC==\"France\"]).intersection(set(team.Discipline[team.NOC==\"Great Britain\"]))"
      ],
      "metadata": {
        "id": "VOFdrBBIMzyi",
        "colab": {
          "base_uri": "https://localhost:8080/"
        },
        "outputId": "e0eeeab0-aace-457a-f36b-657681f601d8"
      },
      "execution_count": null,
      "outputs": [
        {
          "output_type": "execute_result",
          "data": {
            "text/plain": [
              "{'Archery',\n",
              " 'Artistic Gymnastics',\n",
              " 'Artistic Swimming',\n",
              " 'Athletics',\n",
              " 'Cycling Track',\n",
              " 'Football',\n",
              " 'Rugby Sevens',\n",
              " 'Swimming',\n",
              " 'Triathlon'}"
            ]
          },
          "metadata": {},
          "execution_count": 7
        }
      ]
    },
    {
      "cell_type": "markdown",
      "source": [
        "6. controllare se le discipline a cui ha partecipato l'Italia sono di più o di meno di quelle a cui ha partecipato la Spagna\n"
      ],
      "metadata": {
        "id": "3pWAstZ7MztY"
      }
    },
    {
      "cell_type": "code",
      "source": [
        "print(\"italia\" if len(set(team.Discipline[team.NOC==\"Italy\"]))>len(set(team.Discipline[team.NOC==\"Spain\"])) else \"spagna\")"
      ],
      "metadata": {
        "id": "5MfoliYlMzqG"
      },
      "execution_count": null,
      "outputs": []
    },
    {
      "cell_type": "markdown",
      "source": [
        "7. visualizzare tutti le discipline in cui compare la parola 'water' \n"
      ],
      "metadata": {
        "id": "z5GYnNZYMzlc"
      }
    },
    {
      "cell_type": "code",
      "source": [
        "team.Discipline[team.Discipline.str.contains(\"Water\")]"
      ],
      "metadata": {
        "id": "KvfXPc0TMzhj"
      },
      "execution_count": null,
      "outputs": []
    },
    {
      "cell_type": "markdown",
      "source": [
        "8. visualizzare tutti i dati ordinandoli in ordine alfabetico sul nome della nazione\n"
      ],
      "metadata": {
        "id": "yX_WsggAMzcV"
      }
    },
    {
      "cell_type": "code",
      "source": [
        "team.sort_values(\"NOC\")"
      ],
      "metadata": {
        "id": "ewE1yApkMzYi"
      },
      "execution_count": null,
      "outputs": []
    },
    {
      "cell_type": "markdown",
      "source": [
        "9. eliminare tutti i record relativi alla Cina"
      ],
      "metadata": {
        "id": "JhCOj8y1MzTE"
      }
    },
    {
      "cell_type": "code",
      "source": [
        "team.drop(team[team.NOC.str.contains(\"China\")].index, inplace=True)"
      ],
      "metadata": {
        "id": "GZtIHTL6MzPy"
      },
      "execution_count": null,
      "outputs": []
    },
    {
      "cell_type": "code",
      "source": [
        "team"
      ],
      "metadata": {
        "id": "wkmHToycSuba"
      },
      "execution_count": null,
      "outputs": []
    },
    {
      "cell_type": "markdown",
      "source": [
        "VERIFICA D"
      ],
      "metadata": {
        "id": "_Ee2LlhHMzK0"
      }
    },
    {
      "cell_type": "markdown",
      "source": [
        "1. caricare i dati del file in un dataframe Pandas    https://raw.githubusercontent.com/wtitze/3E/main/Medals.xlsx\n"
      ],
      "metadata": {
        "id": "knKMbpT6NEv4"
      }
    },
    {
      "cell_type": "code",
      "source": [
        "meda=pd.read_excel(\"https://raw.githubusercontent.com/wtitze/3E/main/Medals.xlsx\")"
      ],
      "metadata": {
        "colab": {
          "base_uri": "https://localhost:8080/"
        },
        "id": "V5QXL384MzHl",
        "outputId": "65954b98-1a9d-4204-d44c-1fa8c97599a1"
      },
      "execution_count": null,
      "outputs": [
        {
          "output_type": "stream",
          "name": "stderr",
          "text": [
            "/usr/local/lib/python3.7/dist-packages/openpyxl/styles/stylesheet.py:226: UserWarning: Workbook contains no default style, apply openpyxl's default\n",
            "  warn(\"Workbook contains no default style, apply openpyxl's default\")\n"
          ]
        }
      ]
    },
    {
      "cell_type": "code",
      "source": [
        "meda[:1]"
      ],
      "metadata": {
        "colab": {
          "base_uri": "https://localhost:8080/",
          "height": 81
        },
        "id": "Cc5NKM0bTKow",
        "outputId": "0312527b-8f41-4c73-cfff-0048e0c65b1b"
      },
      "execution_count": null,
      "outputs": [
        {
          "output_type": "execute_result",
          "data": {
            "text/plain": [
              "   Rank                  Team/NOC  Gold  Silver  Bronze  Total  Rank by Total\n",
              "0     1  United States of America    39      41      33    113              1"
            ],
            "text/html": [
              "\n",
              "  <div id=\"df-61874a3d-4507-4794-a6d3-bd6269facbb0\">\n",
              "    <div class=\"colab-df-container\">\n",
              "      <div>\n",
              "<style scoped>\n",
              "    .dataframe tbody tr th:only-of-type {\n",
              "        vertical-align: middle;\n",
              "    }\n",
              "\n",
              "    .dataframe tbody tr th {\n",
              "        vertical-align: top;\n",
              "    }\n",
              "\n",
              "    .dataframe thead th {\n",
              "        text-align: right;\n",
              "    }\n",
              "</style>\n",
              "<table border=\"1\" class=\"dataframe\">\n",
              "  <thead>\n",
              "    <tr style=\"text-align: right;\">\n",
              "      <th></th>\n",
              "      <th>Rank</th>\n",
              "      <th>Team/NOC</th>\n",
              "      <th>Gold</th>\n",
              "      <th>Silver</th>\n",
              "      <th>Bronze</th>\n",
              "      <th>Total</th>\n",
              "      <th>Rank by Total</th>\n",
              "    </tr>\n",
              "  </thead>\n",
              "  <tbody>\n",
              "    <tr>\n",
              "      <th>0</th>\n",
              "      <td>1</td>\n",
              "      <td>United States of America</td>\n",
              "      <td>39</td>\n",
              "      <td>41</td>\n",
              "      <td>33</td>\n",
              "      <td>113</td>\n",
              "      <td>1</td>\n",
              "    </tr>\n",
              "  </tbody>\n",
              "</table>\n",
              "</div>\n",
              "      <button class=\"colab-df-convert\" onclick=\"convertToInteractive('df-61874a3d-4507-4794-a6d3-bd6269facbb0')\"\n",
              "              title=\"Convert this dataframe to an interactive table.\"\n",
              "              style=\"display:none;\">\n",
              "        \n",
              "  <svg xmlns=\"http://www.w3.org/2000/svg\" height=\"24px\"viewBox=\"0 0 24 24\"\n",
              "       width=\"24px\">\n",
              "    <path d=\"M0 0h24v24H0V0z\" fill=\"none\"/>\n",
              "    <path d=\"M18.56 5.44l.94 2.06.94-2.06 2.06-.94-2.06-.94-.94-2.06-.94 2.06-2.06.94zm-11 1L8.5 8.5l.94-2.06 2.06-.94-2.06-.94L8.5 2.5l-.94 2.06-2.06.94zm10 10l.94 2.06.94-2.06 2.06-.94-2.06-.94-.94-2.06-.94 2.06-2.06.94z\"/><path d=\"M17.41 7.96l-1.37-1.37c-.4-.4-.92-.59-1.43-.59-.52 0-1.04.2-1.43.59L10.3 9.45l-7.72 7.72c-.78.78-.78 2.05 0 2.83L4 21.41c.39.39.9.59 1.41.59.51 0 1.02-.2 1.41-.59l7.78-7.78 2.81-2.81c.8-.78.8-2.07 0-2.86zM5.41 20L4 18.59l7.72-7.72 1.47 1.35L5.41 20z\"/>\n",
              "  </svg>\n",
              "      </button>\n",
              "      \n",
              "  <style>\n",
              "    .colab-df-container {\n",
              "      display:flex;\n",
              "      flex-wrap:wrap;\n",
              "      gap: 12px;\n",
              "    }\n",
              "\n",
              "    .colab-df-convert {\n",
              "      background-color: #E8F0FE;\n",
              "      border: none;\n",
              "      border-radius: 50%;\n",
              "      cursor: pointer;\n",
              "      display: none;\n",
              "      fill: #1967D2;\n",
              "      height: 32px;\n",
              "      padding: 0 0 0 0;\n",
              "      width: 32px;\n",
              "    }\n",
              "\n",
              "    .colab-df-convert:hover {\n",
              "      background-color: #E2EBFA;\n",
              "      box-shadow: 0px 1px 2px rgba(60, 64, 67, 0.3), 0px 1px 3px 1px rgba(60, 64, 67, 0.15);\n",
              "      fill: #174EA6;\n",
              "    }\n",
              "\n",
              "    [theme=dark] .colab-df-convert {\n",
              "      background-color: #3B4455;\n",
              "      fill: #D2E3FC;\n",
              "    }\n",
              "\n",
              "    [theme=dark] .colab-df-convert:hover {\n",
              "      background-color: #434B5C;\n",
              "      box-shadow: 0px 1px 3px 1px rgba(0, 0, 0, 0.15);\n",
              "      filter: drop-shadow(0px 1px 2px rgba(0, 0, 0, 0.3));\n",
              "      fill: #FFFFFF;\n",
              "    }\n",
              "  </style>\n",
              "\n",
              "      <script>\n",
              "        const buttonEl =\n",
              "          document.querySelector('#df-61874a3d-4507-4794-a6d3-bd6269facbb0 button.colab-df-convert');\n",
              "        buttonEl.style.display =\n",
              "          google.colab.kernel.accessAllowed ? 'block' : 'none';\n",
              "\n",
              "        async function convertToInteractive(key) {\n",
              "          const element = document.querySelector('#df-61874a3d-4507-4794-a6d3-bd6269facbb0');\n",
              "          const dataTable =\n",
              "            await google.colab.kernel.invokeFunction('convertToInteractive',\n",
              "                                                     [key], {});\n",
              "          if (!dataTable) return;\n",
              "\n",
              "          const docLinkHtml = 'Like what you see? Visit the ' +\n",
              "            '<a target=\"_blank\" href=https://colab.research.google.com/notebooks/data_table.ipynb>data table notebook</a>'\n",
              "            + ' to learn more about interactive tables.';\n",
              "          element.innerHTML = '';\n",
              "          dataTable['output_type'] = 'display_data';\n",
              "          await google.colab.output.renderOutput(dataTable, element);\n",
              "          const docLink = document.createElement('div');\n",
              "          docLink.innerHTML = docLinkHtml;\n",
              "          element.appendChild(docLink);\n",
              "        }\n",
              "      </script>\n",
              "    </div>\n",
              "  </div>\n",
              "  "
            ]
          },
          "metadata": {},
          "execution_count": 88
        }
      ]
    },
    {
      "cell_type": "code",
      "source": [
        "meda"
      ],
      "metadata": {
        "colab": {
          "base_uri": "https://localhost:8080/",
          "height": 2108
        },
        "id": "45D1DlohVQZb",
        "outputId": "48e3c7ee-7d57-49a8-f147-bab1762ea3e3"
      },
      "execution_count": null,
      "outputs": [
        {
          "output_type": "execute_result",
          "data": {
            "text/plain": [
              "    Rank                    Team/NOC  Gold  Silver  Bronze  Total  \\\n",
              "0      1    United States of America    39      41      33    113   \n",
              "1      2  People's Republic of China    38      32      18     88   \n",
              "2      3                       Japan    27      14      17     58   \n",
              "3      4               Great Britain    22      21      22     65   \n",
              "4      5                         ROC    20      28      23     71   \n",
              "..   ...                         ...   ...     ...     ...    ...   \n",
              "88    86                       Ghana     0       0       1      1   \n",
              "89    86                     Grenada     0       0       1      1   \n",
              "90    86                      Kuwait     0       0       1      1   \n",
              "91    86         Republic of Moldova     0       0       1      1   \n",
              "92    86        Syrian Arab Republic     0       0       1      1   \n",
              "\n",
              "    Rank by Total  \n",
              "0               1  \n",
              "1               2  \n",
              "2               5  \n",
              "3               4  \n",
              "4               3  \n",
              "..            ...  \n",
              "88             77  \n",
              "89             77  \n",
              "90             77  \n",
              "91             77  \n",
              "92             77  \n",
              "\n",
              "[93 rows x 7 columns]"
            ],
            "text/html": [
              "\n",
              "  <div id=\"df-2bc4a408-4e23-4533-ad4f-4a24ee4d6b9c\">\n",
              "    <div class=\"colab-df-container\">\n",
              "      <div>\n",
              "<style scoped>\n",
              "    .dataframe tbody tr th:only-of-type {\n",
              "        vertical-align: middle;\n",
              "    }\n",
              "\n",
              "    .dataframe tbody tr th {\n",
              "        vertical-align: top;\n",
              "    }\n",
              "\n",
              "    .dataframe thead th {\n",
              "        text-align: right;\n",
              "    }\n",
              "</style>\n",
              "<table border=\"1\" class=\"dataframe\">\n",
              "  <thead>\n",
              "    <tr style=\"text-align: right;\">\n",
              "      <th></th>\n",
              "      <th>Rank</th>\n",
              "      <th>Team/NOC</th>\n",
              "      <th>Gold</th>\n",
              "      <th>Silver</th>\n",
              "      <th>Bronze</th>\n",
              "      <th>Total</th>\n",
              "      <th>Rank by Total</th>\n",
              "    </tr>\n",
              "  </thead>\n",
              "  <tbody>\n",
              "    <tr>\n",
              "      <th>0</th>\n",
              "      <td>1</td>\n",
              "      <td>United States of America</td>\n",
              "      <td>39</td>\n",
              "      <td>41</td>\n",
              "      <td>33</td>\n",
              "      <td>113</td>\n",
              "      <td>1</td>\n",
              "    </tr>\n",
              "    <tr>\n",
              "      <th>1</th>\n",
              "      <td>2</td>\n",
              "      <td>People's Republic of China</td>\n",
              "      <td>38</td>\n",
              "      <td>32</td>\n",
              "      <td>18</td>\n",
              "      <td>88</td>\n",
              "      <td>2</td>\n",
              "    </tr>\n",
              "    <tr>\n",
              "      <th>2</th>\n",
              "      <td>3</td>\n",
              "      <td>Japan</td>\n",
              "      <td>27</td>\n",
              "      <td>14</td>\n",
              "      <td>17</td>\n",
              "      <td>58</td>\n",
              "      <td>5</td>\n",
              "    </tr>\n",
              "    <tr>\n",
              "      <th>3</th>\n",
              "      <td>4</td>\n",
              "      <td>Great Britain</td>\n",
              "      <td>22</td>\n",
              "      <td>21</td>\n",
              "      <td>22</td>\n",
              "      <td>65</td>\n",
              "      <td>4</td>\n",
              "    </tr>\n",
              "    <tr>\n",
              "      <th>4</th>\n",
              "      <td>5</td>\n",
              "      <td>ROC</td>\n",
              "      <td>20</td>\n",
              "      <td>28</td>\n",
              "      <td>23</td>\n",
              "      <td>71</td>\n",
              "      <td>3</td>\n",
              "    </tr>\n",
              "    <tr>\n",
              "      <th>...</th>\n",
              "      <td>...</td>\n",
              "      <td>...</td>\n",
              "      <td>...</td>\n",
              "      <td>...</td>\n",
              "      <td>...</td>\n",
              "      <td>...</td>\n",
              "      <td>...</td>\n",
              "    </tr>\n",
              "    <tr>\n",
              "      <th>88</th>\n",
              "      <td>86</td>\n",
              "      <td>Ghana</td>\n",
              "      <td>0</td>\n",
              "      <td>0</td>\n",
              "      <td>1</td>\n",
              "      <td>1</td>\n",
              "      <td>77</td>\n",
              "    </tr>\n",
              "    <tr>\n",
              "      <th>89</th>\n",
              "      <td>86</td>\n",
              "      <td>Grenada</td>\n",
              "      <td>0</td>\n",
              "      <td>0</td>\n",
              "      <td>1</td>\n",
              "      <td>1</td>\n",
              "      <td>77</td>\n",
              "    </tr>\n",
              "    <tr>\n",
              "      <th>90</th>\n",
              "      <td>86</td>\n",
              "      <td>Kuwait</td>\n",
              "      <td>0</td>\n",
              "      <td>0</td>\n",
              "      <td>1</td>\n",
              "      <td>1</td>\n",
              "      <td>77</td>\n",
              "    </tr>\n",
              "    <tr>\n",
              "      <th>91</th>\n",
              "      <td>86</td>\n",
              "      <td>Republic of Moldova</td>\n",
              "      <td>0</td>\n",
              "      <td>0</td>\n",
              "      <td>1</td>\n",
              "      <td>1</td>\n",
              "      <td>77</td>\n",
              "    </tr>\n",
              "    <tr>\n",
              "      <th>92</th>\n",
              "      <td>86</td>\n",
              "      <td>Syrian Arab Republic</td>\n",
              "      <td>0</td>\n",
              "      <td>0</td>\n",
              "      <td>1</td>\n",
              "      <td>1</td>\n",
              "      <td>77</td>\n",
              "    </tr>\n",
              "  </tbody>\n",
              "</table>\n",
              "<p>93 rows × 7 columns</p>\n",
              "</div>\n",
              "      <button class=\"colab-df-convert\" onclick=\"convertToInteractive('df-2bc4a408-4e23-4533-ad4f-4a24ee4d6b9c')\"\n",
              "              title=\"Convert this dataframe to an interactive table.\"\n",
              "              style=\"display:none;\">\n",
              "        \n",
              "  <svg xmlns=\"http://www.w3.org/2000/svg\" height=\"24px\"viewBox=\"0 0 24 24\"\n",
              "       width=\"24px\">\n",
              "    <path d=\"M0 0h24v24H0V0z\" fill=\"none\"/>\n",
              "    <path d=\"M18.56 5.44l.94 2.06.94-2.06 2.06-.94-2.06-.94-.94-2.06-.94 2.06-2.06.94zm-11 1L8.5 8.5l.94-2.06 2.06-.94-2.06-.94L8.5 2.5l-.94 2.06-2.06.94zm10 10l.94 2.06.94-2.06 2.06-.94-2.06-.94-.94-2.06-.94 2.06-2.06.94z\"/><path d=\"M17.41 7.96l-1.37-1.37c-.4-.4-.92-.59-1.43-.59-.52 0-1.04.2-1.43.59L10.3 9.45l-7.72 7.72c-.78.78-.78 2.05 0 2.83L4 21.41c.39.39.9.59 1.41.59.51 0 1.02-.2 1.41-.59l7.78-7.78 2.81-2.81c.8-.78.8-2.07 0-2.86zM5.41 20L4 18.59l7.72-7.72 1.47 1.35L5.41 20z\"/>\n",
              "  </svg>\n",
              "      </button>\n",
              "      \n",
              "  <style>\n",
              "    .colab-df-container {\n",
              "      display:flex;\n",
              "      flex-wrap:wrap;\n",
              "      gap: 12px;\n",
              "    }\n",
              "\n",
              "    .colab-df-convert {\n",
              "      background-color: #E8F0FE;\n",
              "      border: none;\n",
              "      border-radius: 50%;\n",
              "      cursor: pointer;\n",
              "      display: none;\n",
              "      fill: #1967D2;\n",
              "      height: 32px;\n",
              "      padding: 0 0 0 0;\n",
              "      width: 32px;\n",
              "    }\n",
              "\n",
              "    .colab-df-convert:hover {\n",
              "      background-color: #E2EBFA;\n",
              "      box-shadow: 0px 1px 2px rgba(60, 64, 67, 0.3), 0px 1px 3px 1px rgba(60, 64, 67, 0.15);\n",
              "      fill: #174EA6;\n",
              "    }\n",
              "\n",
              "    [theme=dark] .colab-df-convert {\n",
              "      background-color: #3B4455;\n",
              "      fill: #D2E3FC;\n",
              "    }\n",
              "\n",
              "    [theme=dark] .colab-df-convert:hover {\n",
              "      background-color: #434B5C;\n",
              "      box-shadow: 0px 1px 3px 1px rgba(0, 0, 0, 0.15);\n",
              "      filter: drop-shadow(0px 1px 2px rgba(0, 0, 0, 0.3));\n",
              "      fill: #FFFFFF;\n",
              "    }\n",
              "  </style>\n",
              "\n",
              "      <script>\n",
              "        const buttonEl =\n",
              "          document.querySelector('#df-2bc4a408-4e23-4533-ad4f-4a24ee4d6b9c button.colab-df-convert');\n",
              "        buttonEl.style.display =\n",
              "          google.colab.kernel.accessAllowed ? 'block' : 'none';\n",
              "\n",
              "        async function convertToInteractive(key) {\n",
              "          const element = document.querySelector('#df-2bc4a408-4e23-4533-ad4f-4a24ee4d6b9c');\n",
              "          const dataTable =\n",
              "            await google.colab.kernel.invokeFunction('convertToInteractive',\n",
              "                                                     [key], {});\n",
              "          if (!dataTable) return;\n",
              "\n",
              "          const docLinkHtml = 'Like what you see? Visit the ' +\n",
              "            '<a target=\"_blank\" href=https://colab.research.google.com/notebooks/data_table.ipynb>data table notebook</a>'\n",
              "            + ' to learn more about interactive tables.';\n",
              "          element.innerHTML = '';\n",
              "          dataTable['output_type'] = 'display_data';\n",
              "          await google.colab.output.renderOutput(dataTable, element);\n",
              "          const docLink = document.createElement('div');\n",
              "          docLink.innerHTML = docLinkHtml;\n",
              "          element.appendChild(docLink);\n",
              "        }\n",
              "      </script>\n",
              "    </div>\n",
              "  </div>\n",
              "  "
            ]
          },
          "metadata": {},
          "execution_count": 99
        }
      ]
    },
    {
      "cell_type": "markdown",
      "source": [
        "2. visualizzare il totale delle medaglie delle ultime 10 nazioni\n"
      ],
      "metadata": {
        "id": "N0yttOqRMzCZ"
      }
    },
    {
      "cell_type": "code",
      "source": [
        "meda.Total[-10:]"
      ],
      "metadata": {
        "id": "ixnSIClNMy96"
      },
      "execution_count": null,
      "outputs": []
    },
    {
      "cell_type": "markdown",
      "source": [
        "3. visualizzare la nazione (o le nazioni) che ha vinto, in totale, almeno 40 medaglie\n"
      ],
      "metadata": {
        "id": "jK7DenOKMy4-"
      }
    },
    {
      "cell_type": "code",
      "source": [
        "meda[meda.Total>40]"
      ],
      "metadata": {
        "id": "KmXR5zF3My1i"
      },
      "execution_count": null,
      "outputs": []
    },
    {
      "cell_type": "markdown",
      "source": [
        "4. visualizzare le nazioni che hanno vinto un numero totale di medaglie compreso tra 30 e 50\n"
      ],
      "metadata": {
        "id": "Iufk2elrMywh"
      }
    },
    {
      "cell_type": "code",
      "source": [
        "meda[(meda.Total>30) &(meda.Total<50)]"
      ],
      "metadata": {
        "id": "cerSHxrUMysx"
      },
      "execution_count": null,
      "outputs": []
    },
    {
      "cell_type": "markdown",
      "source": [
        "5. visualizzare il numero di nazioni che non hanno vinto medaglie d'oro ma hanno vinto almeno 3 medaglie d'argento\n"
      ],
      "metadata": {
        "id": "2kakpeqHMym9"
      }
    },
    {
      "cell_type": "code",
      "source": [
        "len(meda[(meda.Gold==0)&(meda.Silver>=3)])"
      ],
      "metadata": {
        "id": "lW4AWtdBMyii"
      },
      "execution_count": null,
      "outputs": []
    },
    {
      "cell_type": "markdown",
      "source": [
        "6. visualizzare il numero totale complessivo di medaglie assegnate\n"
      ],
      "metadata": {
        "id": "RgU-O0U4Myba"
      }
    },
    {
      "cell_type": "code",
      "source": [
        "meda.Total.sum()"
      ],
      "metadata": {
        "id": "rxjktNIDMyWo"
      },
      "execution_count": null,
      "outputs": []
    },
    {
      "cell_type": "markdown",
      "source": [
        "7. visualizzare la nazione che ha vinto lo stesso numero di medaglie d'oro, d'argento e di bronzo\n"
      ],
      "metadata": {
        "id": "yc1lkEz_MyRt"
      }
    },
    {
      "cell_type": "code",
      "source": [
        "meda[(meda.Bronze==meda.Total/3)&(meda.Silver==meda.Total/3)&(meda.Gold==meda.Total/3)]"
      ],
      "metadata": {
        "id": "zBmHVNyLMyMc"
      },
      "execution_count": null,
      "outputs": []
    },
    {
      "cell_type": "markdown",
      "source": [
        "8. visualizzare le nazioni che non hanno vinto medaglie d'argento\n"
      ],
      "metadata": {
        "id": "2F20hQ4QMyDu"
      }
    },
    {
      "cell_type": "code",
      "source": [
        "meda[meda.Silver==0]"
      ],
      "metadata": {
        "id": "nL15Vnc2Mxn0"
      },
      "execution_count": null,
      "outputs": []
    },
    {
      "cell_type": "markdown",
      "source": [
        "9. visualizzare le nazioni che hanno vinto un numero di medaglie d'argento superiore alla media"
      ],
      "metadata": {
        "id": "zRCKmeeeS-zR"
      }
    },
    {
      "cell_type": "code",
      "source": [
        "meda[meda.Silver>meda.Silver.mean()]"
      ],
      "metadata": {
        "id": "YI_rPZuJS-uq"
      },
      "execution_count": null,
      "outputs": []
    }
  ]
}